{
 "cells": [
  {
   "cell_type": "code",
   "execution_count": 2,
   "id": "76d9fd1a-4e48-46aa-a548-8eaeef54cdb4",
   "metadata": {},
   "outputs": [
    {
     "name": "stderr",
     "output_type": "stream",
     "text": [
      "/home/ubuntu/anaconda3/envs/tensorflow2_p38/lib/python3.8/site-packages/keras/backend.py:414: UserWarning: `tf.keras.backend.set_learning_phase` is deprecated and will be removed after 2020-10-11. To update it, simply pass a True/False value to the `training` argument of the `__call__` method of your layer or model.\n",
      "  warnings.warn('`tf.keras.backend.set_learning_phase` is deprecated and '\n"
     ]
    }
   ],
   "source": [
    "import numpy as np\n",
    "import matplotlib.pyplot as plt\n",
    "from keras import layers\n",
    "from keras.layers import Input, Add, Dense, Activation, ZeroPadding2D, BatchNormalization, Dropout, concatenate, Flatten, UpSampling2D,Conv2D, AveragePooling2D, MaxPooling2D, GlobalMaxPooling2D\n",
    "from keras.models import Model, load_model\n",
    "from keras.preprocessing import image\n",
    "from keras.utils import layer_utils\n",
    "from keras.utils.data_utils import get_file\n",
    "from keras.applications.imagenet_utils import preprocess_input\n",
    "from IPython.display import SVG\n",
    "from keras.utils.vis_utils import model_to_dot\n",
    "from keras.initializers import glorot_uniform\n",
    "import scipy.misc\n",
    "from matplotlib.pyplot import imshow\n",
    "%matplotlib inline\n",
    "\n",
    "import keras.backend as K\n",
    "K.set_image_data_format('channels_last')\n",
    "K.set_learning_phase(1)"
   ]
  },
  {
   "cell_type": "code",
   "execution_count": 3,
   "id": "b06ef20c-a15a-4526-949b-206d4301d27a",
   "metadata": {},
   "outputs": [],
   "source": [
    "X_train = np.load('X_train_final.npy')\n",
    "Y_train = np.load('Y_train_final.npy')\n",
    "[m, n_h, n_w, n_c] = X_train.shape\n",
    "X_val = np.load('X_val_fire.npy')\n",
    "Y_val = np.load('Y_val_fire.npy')\n",
    "X_test = np.load('X_test_fire.npy')\n",
    "Y_test = np.load('Y_test_fire.npy')\n"
   ]
  },
  {
   "cell_type": "code",
   "execution_count": 5,
   "id": "14a77fcb-cb01-490b-bd6e-1a508dabd0c6",
   "metadata": {},
   "outputs": [
    {
     "name": "stderr",
     "output_type": "stream",
     "text": [
      "2022-06-01 06:19:35.477043: E tensorflow/stream_executor/cuda/cuda_driver.cc:271] failed call to cuInit: CUDA_ERROR_NO_DEVICE: no CUDA-capable device is detected\n",
      "2022-06-01 06:19:35.477105: I tensorflow/stream_executor/cuda/cuda_diagnostics.cc:156] kernel driver does not appear to be running on this host (ip-172-31-22-219): /proc/driver/nvidia/version does not exist\n",
      "2022-06-01 06:19:35.477604: I tensorflow/core/platform/cpu_feature_guard.cc:151] This TensorFlow binary is optimized with oneAPI Deep Neural Network Library (oneDNN) to use the following CPU instructions in performance-critical operations:  AVX2 FMA\n",
      "To enable them in other operations, rebuild TensorFlow with the appropriate compiler flags.\n"
     ]
    }
   ],
   "source": [
    "def dice_coef(y_true, y_pred, smooth=1):\n",
    "    y_true_f = K.flatten(y_true)\n",
    "    y_pred_f = K.flatten(y_pred)\n",
    "    intersection = K.sum(y_true_f * y_pred_f)\n",
    "    return (2. * intersection + smooth) / (K.sum(y_true_f) + K.sum(y_pred_f) + smooth)\n",
    "\n",
    "def iou(y_true, y_pred, smooth=1):\n",
    "    intersection = K.sum(y_true * y_pred)\n",
    "    sum_ = K.sum(y_true + y_pred)\n",
    "    jac = (intersection + smooth) / (sum_ - intersection + smooth)\n",
    "    return jac\n",
    "\n",
    "model = load_model('V2_250', custom_objects={\"dice_coef\": dice_coef, \"iou\": iou})"
   ]
  },
  {
   "cell_type": "code",
   "execution_count": 6,
   "id": "cb976cd5-d6b4-4bb9-b100-f21814aeaba7",
   "metadata": {},
   "outputs": [
    {
     "name": "stdout",
     "output_type": "stream",
     "text": [
      "26/26 [==============================] - 1s 16ms/step - loss: 0.1391 - dice_coef: 0.2577 - iou: 0.1495\n"
     ]
    },
    {
     "data": {
      "text/plain": [
       "[0.13906754553318024, 0.2577064037322998, 0.1494782418012619]"
      ]
     },
     "execution_count": 6,
     "metadata": {},
     "output_type": "execute_result"
    }
   ],
   "source": [
    "model.evaluate(X_val, Y_val)"
   ]
  },
  {
   "cell_type": "code",
   "execution_count": 7,
   "id": "6bf28f81",
   "metadata": {},
   "outputs": [
    {
     "name": "stdout",
     "output_type": "stream",
     "text": [
      "32/32 [==============================] - 1s 16ms/step - loss: 0.1849 - dice_coef: 0.2154 - iou: 0.1216\n"
     ]
    },
    {
     "data": {
      "text/plain": [
       "[0.18493273854255676, 0.21536588668823242, 0.12164723873138428]"
      ]
     },
     "execution_count": 7,
     "metadata": {},
     "output_type": "execute_result"
    }
   ],
   "source": [
    "model.evaluate(X_test, Y_test)"
   ]
  },
  {
   "cell_type": "code",
   "execution_count": 20,
   "id": "47a6d060-03e9-4daf-baa6-052d127ba97f",
   "metadata": {},
   "outputs": [],
   "source": [
    "def plot_val(i):\n",
    "    x = X_val[i,:,:,:]\n",
    "    x = np.expand_dims(x, axis=0)\n",
    "    y = model.predict(x)\n",
    "    y = np.where(y>0.5, 1, 0)\n",
    "    plt.figure(figsize = (20,6))\n",
    "    plt.subplot(121)\n",
    "    plt.imshow(Y_val[i,:,:], cmap='Wistia')\n",
    "    plt.title('True Fire Mask')\n",
    "    plt.colorbar()\n",
    "    plt.clim([0,1])\n",
    "    plt.subplot(122)\n",
    "    plt.imshow(y[0,:,:,0], cmap='Wistia')\n",
    "    plt.title('Predicted Fire Mask')\n",
    "    plt.colorbar()\n",
    "    plt.clim([0,1])\n",
    "    plt.clim([0,1])\n",
    "    plt.suptitle('Previous Day Mask, True Mask v/s Prediction (Val Data) #{}'.format(i), fontsize=15)\n",
    "    \n",
    "def plot_test(i):\n",
    "    x = X_test[i,:,:,:]\n",
    "    x = np.expand_dims(x, axis=0)\n",
    "    y = model.predict(x)\n",
    "    y = np.where(y>0.5, 1, 0)\n",
    "    plt.figure(figsize = (20,6))\n",
    "    plt.subplot(121)\n",
    "    plt.imshow(Y_test[i,:,:], cmap='Wistia')\n",
    "    plt.title('True Fire Mask')\n",
    "    plt.colorbar()\n",
    "    plt.clim([0,1])\n",
    "    plt.subplot(122)\n",
    "    plt.imshow(y[0,:,:,0], cmap='Wistia')\n",
    "    plt.title('Predicted Fire Mask')\n",
    "    plt.colorbar()\n",
    "    plt.clim([0,1])\n",
    "    plt.clim([0,1])\n",
    "    plt.suptitle('Previous Day Mask, True Mask v/s Prediction (Test Data) #{}'.format(i), fontsize=15)\n",
    "    "
   ]
  },
  {
   "cell_type": "code",
   "execution_count": 21,
   "id": "e4b6ab29-4b1e-4da1-8eca-96641eb6e548",
   "metadata": {},
   "outputs": [
    {
     "data": {
      "image/png": "[encoded data removed]",
      "text/plain": [
       "<Figure size 1440x432 with 4 Axes>"
      ]
     },
     "metadata": {
      "needs_background": "light"
     },
     "output_type": "display_data"
    }
   ],
   "source": [
    "plot_test(841)"
   ]
  },
  {
   "cell_type": "code",
   "execution_count": 22,
   "id": "9ed47aa9-8ac0-473c-9985-75672e765dc1",
   "metadata": {},
   "outputs": [
    {
     "data": {
      "image/png": "[encoded data removed]",
      "text/plain": [
       "<Figure size 1440x432 with 4 Axes>"
      ]
     },
     "metadata": {
      "needs_background": "light"
     },
     "output_type": "display_data"
    }
   ],
   "source": [
    "plot_val(151)"
   ]
  },
  {
   "cell_type": "code",
   "execution_count": null,
   "id": "87e243ac-ee33-4ca2-a417-ce6cf8ba42f9",
   "metadata": {},
   "outputs": [],
   "source": []
  }
 ],
 "metadata": {
  "kernelspec": {
   "display_name": "Python 3 (ipykernel)",
   "language": "python",
   "name": "python3"
  },
  "language_info": {
   "codemirror_mode": {
    "name": "ipython",
    "version": 3
   },
   "file_extension": ".py",
   "mimetype": "text/x-python",
   "name": "python",
   "nbconvert_exporter": "python",
   "pygments_lexer": "ipython3",
   "version": "3.8.12"
  }
 },
 "nbformat": 4,
 "nbformat_minor": 5
}
