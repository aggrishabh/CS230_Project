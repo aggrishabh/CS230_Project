{
 "cells": [
  {
   "cell_type": "markdown",
   "id": "cedd20c1",
   "metadata": {
    "id": "uPojRlNQPJub",
    "papermill": {
     "duration": 0.03195,
     "end_time": "2022-03-19T19:43:05.365643",
     "exception": false,
     "start_time": "2022-03-19T19:43:05.333693",
     "status": "completed"
    },
    "tags": []
   },
   "source": [
    "# Imports"
   ]
  },
  {
   "cell_type": "markdown",
   "id": "6243d32d",
   "metadata": {
    "id": "oOtnY2y8Om-1",
    "papermill": {
     "duration": 0.028497,
     "end_time": "2022-03-19T19:43:05.424262",
     "exception": false,
     "start_time": "2022-03-19T19:43:05.395765",
     "status": "completed"
    },
    "tags": []
   },
   "source": [
    "Import the required libraries."
   ]
  },
  {
   "cell_type": "code",
   "execution_count": 1,
   "id": "a2c40f2c",
   "metadata": {
    "execution": {
     "iopub.execute_input": "2022-03-19T19:43:05.493206Z",
     "iopub.status.busy": "2022-03-19T19:43:05.483222Z",
     "iopub.status.idle": "2022-03-19T19:43:10.431279Z",
     "shell.execute_reply": "2022-03-19T19:43:10.430528Z",
     "shell.execute_reply.started": "2022-03-19T18:27:05.007611Z"
    },
    "id": "1Mf4kbp8yOxd",
    "papermill": {
     "duration": 4.979471,
     "end_time": "2022-03-19T19:43:10.431438",
     "exception": false,
     "start_time": "2022-03-19T19:43:05.451967",
     "status": "completed"
    },
    "tags": []
   },
   "outputs": [],
   "source": [
    "import re\n",
    "from typing import Dict, List, Optional, Text, Tuple\n",
    "import matplotlib.pyplot as plt\n",
    "from matplotlib import colors\n",
    "\n",
    "import tensorflow as tf"
   ]
  },
  {
   "cell_type": "markdown",
   "id": "a464c0d1",
   "metadata": {
    "id": "aVb2hhOcgVwU",
    "papermill": {
     "duration": 0.02668,
     "end_time": "2022-03-19T19:43:10.485754",
     "exception": false,
     "start_time": "2022-03-19T19:43:10.459074",
     "status": "completed"
    },
    "tags": []
   },
   "source": [
    "# Load the dataset"
   ]
  },
  {
   "cell_type": "markdown",
   "id": "56946ecd",
   "metadata": {
    "id": "awWJ00JeOyuO",
    "papermill": {
     "duration": 0.026626,
     "end_time": "2022-03-19T19:43:10.539675",
     "exception": false,
     "start_time": "2022-03-19T19:43:10.513049",
     "status": "completed"
    },
    "tags": []
   },
   "source": [
    "Enter the Unix glob file pattern of the data files.\n",
    "\n",
    "Here we load the training data. All the data are stored in TensorFlow Record files.\n",
    "Replace 'train' with 'eval' or 'test' to load the evaluation or testing data, respectively."
   ]
  },
  {
   "cell_type": "code",
   "execution_count": 7,
   "id": "be48f5b3",
   "metadata": {
    "execution": {
     "iopub.execute_input": "2022-03-19T19:43:10.597488Z",
     "iopub.status.busy": "2022-03-19T19:43:10.596771Z",
     "iopub.status.idle": "2022-03-19T19:43:10.599673Z",
     "shell.execute_reply": "2022-03-19T19:43:10.600146Z",
     "shell.execute_reply.started": "2022-03-19T18:27:09.611651Z"
    },
    "id": "fhHMUbBoOg0k",
    "papermill": {
     "duration": 0.033697,
     "end_time": "2022-03-19T19:43:10.600314",
     "exception": false,
     "start_time": "2022-03-19T19:43:10.566617",
     "status": "completed"
    },
    "tags": []
   },
   "outputs": [],
   "source": [
    "file_pattern = 'next_day_wildfire_spread_train*'"
   ]
  },
  {
   "cell_type": "markdown",
   "id": "c38f2a35",
   "metadata": {
    "id": "OabUJMGqO9NE",
    "papermill": {
     "duration": 0.026956,
     "end_time": "2022-03-19T19:43:10.655917",
     "exception": false,
     "start_time": "2022-03-19T19:43:10.628961",
     "status": "completed"
    },
    "tags": []
   },
   "source": [
    "Run the following three cells to define the required library functions for loading the data.\n",
    "\n",
    "The first cell defines the name of the variables in the input files and the corrresponding data statistics. The statistics can be used for preprocessing the data. "
   ]
  },
  {
   "cell_type": "code",
   "execution_count": 8,
   "id": "73ac2484",
   "metadata": {
    "execution": {
     "iopub.execute_input": "2022-03-19T19:43:10.713719Z",
     "iopub.status.busy": "2022-03-19T19:43:10.712941Z",
     "iopub.status.idle": "2022-03-19T19:43:10.723815Z",
     "shell.execute_reply": "2022-03-19T19:43:10.724638Z",
     "shell.execute_reply.started": "2022-03-19T18:27:09.617343Z"
    },
    "id": "GTTV3tjjCcdn",
    "papermill": {
     "duration": 0.04193,
     "end_time": "2022-03-19T19:43:10.724862",
     "exception": false,
     "start_time": "2022-03-19T19:43:10.682932",
     "status": "completed"
    },
    "tags": []
   },
   "outputs": [],
   "source": [
    "\"\"\"Constants for the data reader.\"\"\"\n",
    "\n",
    "INPUT_FEATURES = ['elevation', 'th', 'vs',  'tmmn', 'tmmx', 'sph', \n",
    "                  'pr', 'pdsi', 'NDVI', 'population', 'erc', 'PrevFireMask']\n",
    "\n",
    "OUTPUT_FEATURES = ['FireMask', ]\n",
    "\n",
    "# Data statistics \n",
    "# For each variable, the statistics are ordered in the form:\n",
    "# (min_clip, max_clip, mean, standard deviation)\n",
    "DATA_STATS = {\n",
    "    # Elevation in m.\n",
    "    # 0.1 percentile, 99.9 percentile\n",
    "    'elevation': (0.0, 3141.0, 657.3003, 649.0147),\n",
    "    \n",
    "    # Drought Index (Palmer Drought Severity Index)\n",
    "    # 0.1 percentile, 99.9 percentile\n",
    "    'pdsi': (-6.12974870967865, 7.876040384292651, -0.0052714925, 2.6823447),\n",
    "    \n",
    "    #Vegetation index (times 10,000 maybe, since it's supposed to be b/w -1 and 1?)\n",
    "    'NDVI': (-9821.0, 9996.0, 5157.625, 2466.6677),  # min, max\n",
    "   \n",
    "    # Precipitation in mm.\n",
    "    # Negative values do not make sense, so min is set to 0.\n",
    "    # 0., 99.9 percentile\n",
    "    'pr': (0.0, 44.53038024902344, 1.7398051, 4.482833),\n",
    "   \n",
    "    # Specific humidity.\n",
    "    # Negative values do not make sense, so min is set to 0.\n",
    "    # The range of specific humidity is up to 100% so max is 1.\n",
    "    'sph': (0., 1., 0.0071658953, 0.0042835088),\n",
    "    \n",
    "    # Wind direction in degrees clockwise from north.\n",
    "    # Thus min set to 0 and max set to 360.\n",
    "    'th': (0., 360.0, 190.32976, 72.59854),\n",
    "    \n",
    "    # Min/max temperature in Kelvin.\n",
    "    \n",
    "    #Min temp\n",
    "    # -20 degree C, 99.9 percentile\n",
    "    'tmmn': (253.15, 298.94891357421875, 281.08768, 8.982386),\n",
    "    \n",
    "    #Max temp\n",
    "    # -20 degree C, 99.9 percentile\n",
    "    'tmmx': (253.15, 315.09228515625, 295.17383, 9.815496),\n",
    "    \n",
    "    # Wind speed in m/s.\n",
    "    # Negative values do not make sense, given there is a wind direction.\n",
    "    # 0., 99.9 percentile\n",
    "    'vs': (0.0, 10.024310074806237, 3.8500874, 1.4109988),\n",
    "    \n",
    "    # NFDRS fire danger index energy release component expressed in BTU's per\n",
    "    # square foot.\n",
    "    # Negative values do not make sense. Thus min set to zero.\n",
    "    # 0., 99.9 percentile\n",
    "    'erc': (0.0, 106.24891662597656, 37.326267, 20.846027),\n",
    "    \n",
    "    # Population density\n",
    "    # min, 99.9 percentile\n",
    "    'population': (0., 2534.06298828125, 25.531384, 154.72331),\n",
    "    \n",
    "    # We don't want to normalize the FireMasks.\n",
    "    # 1 indicates fire, 0 no fire, -1 unlabeled data\n",
    "    'PrevFireMask': (-1., 1., 0., 1.),\n",
    "    'FireMask': (-1., 1., 0., 1.)\n",
    "}"
   ]
  },
  {
   "cell_type": "markdown",
   "id": "3e3512fa",
   "metadata": {
    "papermill": {
     "duration": 0.027365,
     "end_time": "2022-03-19T19:43:10.779396",
     "exception": false,
     "start_time": "2022-03-19T19:43:10.752031",
     "status": "completed"
    },
    "tags": []
   },
   "source": [
    "The following cell defines cropping functions for extracting regions of the desired size from the input data."
   ]
  },
  {
   "cell_type": "code",
   "execution_count": 9,
   "id": "565c230f",
   "metadata": {
    "execution": {
     "iopub.execute_input": "2022-03-19T19:43:10.837327Z",
     "iopub.status.busy": "2022-03-19T19:43:10.836642Z",
     "iopub.status.idle": "2022-03-19T19:43:10.846573Z",
     "shell.execute_reply": "2022-03-19T19:43:10.845964Z",
     "shell.execute_reply.started": "2022-03-19T18:27:09.632855Z"
    },
    "id": "QqGYv21hD-2q",
    "jupyter": {
     "source_hidden": true
    },
    "papermill": {
     "duration": 0.039897,
     "end_time": "2022-03-19T19:43:10.846723",
     "exception": false,
     "start_time": "2022-03-19T19:43:10.806826",
     "status": "completed"
    },
    "tags": []
   },
   "outputs": [],
   "source": [
    "\"\"\"Library of common functions used in deep learning neural networks.\n",
    "\"\"\"\n",
    "#YOU PROBABLY WILL NOT USE THESE.\n",
    "\n",
    "def random_crop_input_and_output_images(\n",
    "    input_img: tf.Tensor,\n",
    "    output_img: tf.Tensor,\n",
    "    sample_size: int,\n",
    "    num_in_channels: int,\n",
    "    num_out_channels: int,\n",
    ") -> Tuple[tf.Tensor, tf.Tensor]:\n",
    "  \"\"\"Randomly axis-align crop input and output image tensors.\n",
    "\n",
    "  Args:\n",
    "    input_img: tensor with dimensions HWC.\n",
    "    output_img: tensor with dimensions HWC.\n",
    "    sample_size: side length (square) to crop to.\n",
    "    num_in_channels: number of channels in input_img.\n",
    "    num_out_channels: number of channels in output_img.\n",
    "  Returns:\n",
    "    input_img: tensor with dimensions HWC.\n",
    "    output_img: tensor with dimensions HWC.\n",
    "  \"\"\"\n",
    "  combined = tf.concat([input_img, output_img], axis=2)\n",
    "  combined = tf.image.random_crop(\n",
    "      combined,\n",
    "      [sample_size, sample_size, num_in_channels + num_out_channels])\n",
    "  input_img = combined[:, :, 0:num_in_channels]\n",
    "  output_img = combined[:, :, -num_out_channels:]\n",
    "  return input_img, output_img\n",
    "\n",
    "\n",
    "def center_crop_input_and_output_images(\n",
    "    input_img: tf.Tensor,\n",
    "    output_img: tf.Tensor,\n",
    "    sample_size: int,\n",
    ") -> Tuple[tf.Tensor, tf.Tensor]:\n",
    "  \"\"\"Center crops input and output image tensors.\n",
    "\n",
    "  Args:\n",
    "    input_img: tensor with dimensions HWC.\n",
    "    output_img: tensor with dimensions HWC.\n",
    "    sample_size: side length (square) to crop to.\n",
    "  Returns:\n",
    "    input_img: tensor with dimensions HWC.\n",
    "    output_img: tensor with dimensions HWC.\n",
    "  \"\"\"\n",
    "  central_fraction = sample_size / input_img.shape[0]\n",
    "  input_img = tf.image.central_crop(input_img, central_fraction)\n",
    "  output_img = tf.image.central_crop(output_img, central_fraction)\n",
    "  return input_img, output_img"
   ]
  },
  {
   "cell_type": "markdown",
   "id": "9d38edcf",
   "metadata": {
    "papermill": {
     "duration": 0.026961,
     "end_time": "2022-03-19T19:43:10.900906",
     "exception": false,
     "start_time": "2022-03-19T19:43:10.873945",
     "status": "completed"
    },
    "tags": []
   },
   "source": [
    "The following cell provides code for parsing the contents of the TensorFlow Record files. In addition to loading the data, it also offers functions for various preprocessing operations, such as clipping, rescaling, or normalizing the data.  "
   ]
  },
  {
   "cell_type": "code",
   "execution_count": 10,
   "id": "6e6cc8ff",
   "metadata": {
    "execution": {
     "iopub.execute_input": "2022-03-19T19:43:10.987604Z",
     "iopub.status.busy": "2022-03-19T19:43:10.986767Z",
     "iopub.status.idle": "2022-03-19T19:43:10.989997Z",
     "shell.execute_reply": "2022-03-19T19:43:10.989315Z",
     "shell.execute_reply.started": "2022-03-19T18:27:09.650015Z"
    },
    "id": "VBvI9FuGEC09",
    "jupyter": {
     "source_hidden": true
    },
    "papermill": {
     "duration": 0.062131,
     "end_time": "2022-03-19T19:43:10.990138",
     "exception": false,
     "start_time": "2022-03-19T19:43:10.928007",
     "status": "completed"
    },
    "tags": []
   },
   "outputs": [],
   "source": [
    "\"\"\"Dataset reader for Earth Engine data.\"\"\"\n",
    "\n",
    "def _get_base_key(key: Text) -> Text:\n",
    "  \"\"\"Extracts the base key from the provided key.\n",
    "\n",
    "  Earth Engine exports TFRecords containing each data variable with its\n",
    "  corresponding variable name. In the case of time sequences, the name of the\n",
    "  data variable is of the form 'variable_1', 'variable_2', ..., 'variable_n',\n",
    "  where 'variable' is the name of the variable, and n the number of elements\n",
    "  in the time sequence. Extracting the base key ensures that each step of the\n",
    "  time sequence goes through the same normalization steps.\n",
    "  The base key obeys the following naming pattern: '([a-zA-Z]+)'\n",
    "  For instance, for an input key 'variable_1', this function returns 'variable'.\n",
    "  For an input key 'variable', this function simply returns 'variable'.\n",
    "\n",
    "  Args:\n",
    "    key: Input key.\n",
    "\n",
    "  Returns:\n",
    "    The corresponding base key.\n",
    "\n",
    "  Raises:\n",
    "    ValueError when `key` does not match the expected pattern.\n",
    "  \"\"\"\n",
    "    match = re.match(r'([a-zA-Z]+)', key)\n",
    "    if match:\n",
    "        return match.group(1)\n",
    "    raise ValueError('The provided key does not match the expected pattern: {}'.format(key))\n",
    "\n",
    "\n",
    "def _clip_and_rescale(inputs: tf.Tensor, key: Text) -> tf.Tensor:\n",
    "    \"\"\"Clips and rescales inputs with the stats corresponding to `key`.\n",
    "\n",
    "    Args:\n",
    "    inputs: Inputs to clip and rescale.\n",
    "    key: Key describing the inputs.\n",
    "\n",
    "    Returns:\n",
    "    Clipped and rescaled input.\n",
    "\n",
    "    Raises:\n",
    "    ValueError if there are no data statistics available for `key`.\n",
    "    \"\"\"\n",
    "    base_key = _get_base_key(key)\n",
    "    if base_key not in DATA_STATS:\n",
    "        raise ValueError(\n",
    "            'No data statistics available for the requested key: {}.'.format(key))\n",
    "    min_val, max_val, _, _ = DATA_STATS[base_key]\n",
    "    inputs = tf.clip_by_value(inputs, min_val, max_val)\n",
    "    return tf.math.divide_no_nan((inputs - min_val), (max_val - min_val))\n",
    "\n",
    "\n",
    "def _clip_and_normalize(inputs: tf.Tensor, key: Text) -> tf.Tensor:\n",
    "  \"\"\"Clips and normalizes inputs with the stats corresponding to `key`.\n",
    "\n",
    "    Args:\n",
    "    inputs: Inputs to clip and normalize.\n",
    "    key: Key describing the inputs.\n",
    "\n",
    "    Returns:\n",
    "    Clipped and normalized input.\n",
    "\n",
    "    Raises:\n",
    "    ValueError if there are no data statistics available for `key`.\n",
    "    \"\"\"\n",
    "    base_key = _get_base_key(key)\n",
    "    if base_key not in DATA_STATS:\n",
    "        raise ValueError(\n",
    "            'No data statistics available for the requested key: {}.'.format(key))\n",
    "    min_val, max_val, mean, std = DATA_STATS[base_key]\n",
    "    inputs = tf.clip_by_value(inputs, min_val, max_val)\n",
    "    inputs = inputs - mean\n",
    "    return tf.math.divide_no_nan(inputs, std)\n",
    "\n",
    "def _get_features_dict(\n",
    "    sample_size: int,\n",
    "    features: List[Text],\n",
    ") -> Dict[Text, tf.io.FixedLenFeature]:\n",
    "  \"\"\"Creates a features dictionary for TensorFlow IO.\n",
    "\n",
    "  Args:\n",
    "    sample_size: Size of the input tiles (square).\n",
    "    features: List of feature names.\n",
    "\n",
    "  Returns:\n",
    "    A features dictionary for TensorFlow IO.\n",
    "  \"\"\"\n",
    "  sample_shape = [sample_size, sample_size]\n",
    "  features = set(features)\n",
    "  columns = [\n",
    "      tf.io.FixedLenFeature(shape=sample_shape, dtype=tf.float32)\n",
    "      for _ in features\n",
    "  ]\n",
    "  return dict(zip(features, columns))\n",
    "\n",
    "\n",
    "def _parse_fn(\n",
    "    example_proto: tf.train.Example, data_size: int, sample_size: int,\n",
    "    num_in_channels: int, clip_and_normalize: bool,\n",
    "    clip_and_rescale: bool, random_crop: bool, center_crop: bool,\n",
    ") -> Tuple[tf.Tensor, tf.Tensor]:\n",
    "  \"\"\"Reads a serialized example.\n",
    "\n",
    "  Args:\n",
    "    example_proto: A TensorFlow example protobuf.\n",
    "    data_size: Size of tiles (square) as read from input files.\n",
    "    sample_size: Size the tiles (square) when input into the model.\n",
    "    num_in_channels: Number of input channels.\n",
    "    clip_and_normalize: True if the data should be clipped and normalized.\n",
    "    clip_and_rescale: True if the data should be clipped and rescaled.\n",
    "    random_crop: True if the data should be randomly cropped.\n",
    "    center_crop: True if the data should be cropped in the center.\n",
    "\n",
    "  Returns:\n",
    "    (input_img, output_img) tuple of inputs and outputs to the ML model.\n",
    "  \"\"\"\n",
    "  if (random_crop and center_crop):\n",
    "    raise ValueError('Cannot have both random_crop and center_crop be True')\n",
    "  input_features, output_features = INPUT_FEATURES, OUTPUT_FEATURES\n",
    "  feature_names = input_features + output_features\n",
    "  features_dict = _get_features_dict(data_size, feature_names)\n",
    "  features = tf.io.parse_single_example(example_proto, features_dict)\n",
    "\n",
    "  if clip_and_normalize:\n",
    "    inputs_list = [\n",
    "        _clip_and_normalize(features.get(key), key) for key in input_features\n",
    "    ]\n",
    "  elif clip_and_rescale:\n",
    "    inputs_list = [\n",
    "        _clip_and_rescale(features.get(key), key) for key in input_features\n",
    "    ]\n",
    "  else:\n",
    "    inputs_list = [features.get(key) for key in input_features]\n",
    "  \n",
    "  inputs_stacked = tf.stack(inputs_list, axis=0)\n",
    "  input_img = tf.transpose(inputs_stacked, [1, 2, 0])\n",
    "\n",
    "  outputs_list = [features.get(key) for key in output_features]\n",
    "  assert outputs_list, 'outputs_list should not be empty'\n",
    "  outputs_stacked = tf.stack(outputs_list, axis=0)\n",
    "\n",
    "  outputs_stacked_shape = outputs_stacked.get_shape().as_list()\n",
    "  assert len(outputs_stacked.shape) == 3, ('outputs_stacked should be rank 3'\n",
    "                                            'but dimensions of outputs_stacked'\n",
    "                                            f' are {outputs_stacked_shape}')\n",
    "  output_img = tf.transpose(outputs_stacked, [1, 2, 0])\n",
    "\n",
    "  if random_crop:\n",
    "    input_img, output_img = random_crop_input_and_output_images(\n",
    "        input_img, output_img, sample_size, num_in_channels, 1)\n",
    "  if center_crop:\n",
    "    input_img, output_img = center_crop_input_and_output_images(\n",
    "        input_img, output_img, sample_size)\n",
    "  return input_img, output_img\n",
    "\n",
    "\n",
    "def get_dataset(file_pattern: Text, data_size: int, sample_size: int,\n",
    "                batch_size: int, num_in_channels: int, compression_type: Text,\n",
    "                clip_and_normalize: bool, clip_and_rescale: bool,\n",
    "                random_crop: bool, center_crop: bool) -> tf.data.Dataset:\n",
    "  \"\"\"Gets the dataset from the file pattern.\n",
    "\n",
    "  Args:\n",
    "    file_pattern: Input file pattern.\n",
    "    data_size: Size of tiles (square) as read from input files.\n",
    "    sample_size: Size the tiles (square) when input into the model.\n",
    "    batch_size: Batch size.\n",
    "    num_in_channels: Number of input channels.\n",
    "    compression_type: Type of compression used for the input files.\n",
    "    clip_and_normalize: True if the data should be clipped and normalized, False\n",
    "      otherwise.\n",
    "    clip_and_rescale: True if the data should be clipped and rescaled, False\n",
    "      otherwise.\n",
    "    random_crop: True if the data should be randomly cropped.\n",
    "    center_crop: True if the data shoulde be cropped in the center.\n",
    "\n",
    "  Returns:\n",
    "    A TensorFlow dataset loaded from the input file pattern, with features\n",
    "    described in the constants, and with the shapes determined from the input\n",
    "    parameters to this function.\n",
    "  \"\"\"\n",
    "  if (clip_and_normalize and clip_and_rescale):\n",
    "    raise ValueError('Cannot have both normalize and rescale.')\n",
    "  dataset = tf.data.Dataset.list_files(file_pattern)\n",
    "  dataset = dataset.interleave(\n",
    "      lambda x: tf.data.TFRecordDataset(x, compression_type=compression_type),\n",
    "      num_parallel_calls=tf.data.experimental.AUTOTUNE)\n",
    "  dataset = dataset.prefetch(buffer_size=tf.data.experimental.AUTOTUNE)\n",
    "  dataset = dataset.map(\n",
    "      lambda x: _parse_fn(  # pylint: disable=g-long-lambda\n",
    "          x, data_size, sample_size, num_in_channels, clip_and_normalize,\n",
    "          clip_and_rescale, random_crop, center_crop),\n",
    "      num_parallel_calls=tf.data.experimental.AUTOTUNE)\n",
    "  dataset = dataset.batch(batch_size)\n",
    "  dataset = dataset.prefetch(buffer_size=tf.data.experimental.AUTOTUNE)\n",
    "  return dataset"
   ]
  },
  {
   "cell_type": "markdown",
   "id": "81b26100",
   "metadata": {
    "id": "rdNDytnsPTVK",
    "papermill": {
     "duration": 0.026729,
     "end_time": "2022-03-19T19:43:11.044236",
     "exception": false,
     "start_time": "2022-03-19T19:43:11.017507",
     "status": "completed"
    },
    "tags": []
   },
   "source": [
    "Load the dataset.\n",
    "\n",
    "The data are stored as 64x64 km regions. For each data sample, we extract a random 32x32 km region. In the following function call, we do not clip, rescale or normalize the data. "
   ]
  },
  {
   "cell_type": "code",
   "execution_count": 17,
   "id": "d3cbf8ae",
   "metadata": {
    "execution": {
     "iopub.execute_input": "2022-03-19T19:43:11.108976Z",
     "iopub.status.busy": "2022-03-19T19:43:11.108237Z",
     "iopub.status.idle": "2022-03-19T19:43:11.757586Z",
     "shell.execute_reply": "2022-03-19T19:43:11.756862Z",
     "shell.execute_reply.started": "2022-03-19T18:27:09.676637Z"
    },
    "id": "X1jBBEinQbM0",
    "papermill": {
     "duration": 0.686405,
     "end_time": "2022-03-19T19:43:11.757739",
     "exception": false,
     "start_time": "2022-03-19T19:43:11.071334",
     "status": "completed"
    },
    "tags": []
   },
   "outputs": [],
   "source": [
    "side_length = 32 #length of the side of the square you select (so, e.g. pick 64 if you don't want any random cropping)\n",
    "num_obs = 100 #batch size\n",
    "\n",
    "dataset = get_dataset(\n",
    "      file_pattern,\n",
    "      data_size=64,\n",
    "      sample_size=side_length,\n",
    "      batch_size=num_obs,\n",
    "      num_in_channels=12,\n",
    "      compression_type=None,\n",
    "      clip_and_normalize=False,\n",
    "      clip_and_rescale=False,\n",
    "      random_crop=True,\n",
    "      center_crop=False)\n",
    "\n"
   ]
  },
  {
   "cell_type": "markdown",
   "id": "757d140a",
   "metadata": {
    "id": "Ca8USco0PdG3",
    "papermill": {
     "duration": 0.027415,
     "end_time": "2022-03-19T19:43:11.814137",
     "exception": false,
     "start_time": "2022-03-19T19:43:11.786722",
     "status": "completed"
    },
    "tags": []
   },
   "source": [
    "TF Datasets are loaded lazily, so materialize the first batch of inputs and labels."
   ]
  },
  {
   "cell_type": "code",
   "execution_count": 19,
   "id": "9eacc9ab",
   "metadata": {
    "execution": {
     "iopub.execute_input": "2022-03-19T19:43:11.876216Z",
     "iopub.status.busy": "2022-03-19T19:43:11.875461Z",
     "iopub.status.idle": "2022-03-19T19:43:12.148454Z",
     "shell.execute_reply": "2022-03-19T19:43:12.147798Z",
     "shell.execute_reply.started": "2022-03-19T18:29:27.964832Z"
    },
    "id": "Ml7Rg8aCQiTT",
    "papermill": {
     "duration": 0.306637,
     "end_time": "2022-03-19T19:43:12.148657",
     "exception": false,
     "start_time": "2022-03-19T19:43:11.842020",
     "status": "completed"
    },
    "tags": []
   },
   "outputs": [
    {
     "ename": "DataLossError",
     "evalue": "corrupted record at 0 [Op:IteratorGetNext]",
     "output_type": "error",
     "traceback": [
      "\u001b[0;31m---------------------------------------------------------------------------\u001b[0m",
      "\u001b[0;31mDataLossError\u001b[0m                             Traceback (most recent call last)",
      "\u001b[0;32m<ipython-input-19-373f83c21abe>\u001b[0m in \u001b[0;36m<module>\u001b[0;34m\u001b[0m\n\u001b[0;32m----> 1\u001b[0;31m \u001b[0minputs\u001b[0m\u001b[0;34m,\u001b[0m \u001b[0mlabels\u001b[0m \u001b[0;34m=\u001b[0m \u001b[0mnext\u001b[0m\u001b[0;34m(\u001b[0m\u001b[0miter\u001b[0m\u001b[0;34m(\u001b[0m\u001b[0mdataset\u001b[0m\u001b[0;34m)\u001b[0m\u001b[0;34m)\u001b[0m\u001b[0;34m\u001b[0m\u001b[0;34m\u001b[0m\u001b[0m\n\u001b[0m\u001b[1;32m      2\u001b[0m \u001b[0;31m#Are there two assignments happening on every iteration because dataset stores inputs with labels?\u001b[0m\u001b[0;34m\u001b[0m\u001b[0;34m\u001b[0m\u001b[0;34m\u001b[0m\u001b[0m\n\u001b[1;32m      3\u001b[0m \u001b[0;31m#print(inputs.shape) #(100, 32, 32, 12)\u001b[0m\u001b[0;34m\u001b[0m\u001b[0;34m\u001b[0m\u001b[0;34m\u001b[0m\u001b[0m\n\u001b[1;32m      4\u001b[0m \u001b[0;31m#print(labels.shape) #(100, 32, 32, 1)\u001b[0m\u001b[0;34m\u001b[0m\u001b[0;34m\u001b[0m\u001b[0;34m\u001b[0m\u001b[0m\n\u001b[1;32m      5\u001b[0m \u001b[0;31m#print(inputs[0, :, :, 11]) #Trying to grab the previous fire mask. (Apparent) success!\u001b[0m\u001b[0;34m\u001b[0m\u001b[0;34m\u001b[0m\u001b[0;34m\u001b[0m\u001b[0m\n",
      "\u001b[0;32m~/opt/anaconda3/lib/python3.8/site-packages/tensorflow/python/data/ops/iterator_ops.py\u001b[0m in \u001b[0;36m__next__\u001b[0;34m(self)\u001b[0m\n\u001b[1;32m    764\u001b[0m   \u001b[0;32mdef\u001b[0m \u001b[0m__next__\u001b[0m\u001b[0;34m(\u001b[0m\u001b[0mself\u001b[0m\u001b[0;34m)\u001b[0m\u001b[0;34m:\u001b[0m\u001b[0;34m\u001b[0m\u001b[0;34m\u001b[0m\u001b[0m\n\u001b[1;32m    765\u001b[0m     \u001b[0;32mtry\u001b[0m\u001b[0;34m:\u001b[0m\u001b[0;34m\u001b[0m\u001b[0;34m\u001b[0m\u001b[0m\n\u001b[0;32m--> 766\u001b[0;31m       \u001b[0;32mreturn\u001b[0m \u001b[0mself\u001b[0m\u001b[0;34m.\u001b[0m\u001b[0m_next_internal\u001b[0m\u001b[0;34m(\u001b[0m\u001b[0;34m)\u001b[0m\u001b[0;34m\u001b[0m\u001b[0;34m\u001b[0m\u001b[0m\n\u001b[0m\u001b[1;32m    767\u001b[0m     \u001b[0;32mexcept\u001b[0m \u001b[0merrors\u001b[0m\u001b[0;34m.\u001b[0m\u001b[0mOutOfRangeError\u001b[0m\u001b[0;34m:\u001b[0m\u001b[0;34m\u001b[0m\u001b[0;34m\u001b[0m\u001b[0m\n\u001b[1;32m    768\u001b[0m       \u001b[0;32mraise\u001b[0m \u001b[0mStopIteration\u001b[0m\u001b[0;34m\u001b[0m\u001b[0;34m\u001b[0m\u001b[0m\n",
      "\u001b[0;32m~/opt/anaconda3/lib/python3.8/site-packages/tensorflow/python/data/ops/iterator_ops.py\u001b[0m in \u001b[0;36m_next_internal\u001b[0;34m(self)\u001b[0m\n\u001b[1;32m    747\u001b[0m     \u001b[0;31m# to communicate that there is no more data to iterate over.\u001b[0m\u001b[0;34m\u001b[0m\u001b[0;34m\u001b[0m\u001b[0;34m\u001b[0m\u001b[0m\n\u001b[1;32m    748\u001b[0m     \u001b[0;32mwith\u001b[0m \u001b[0mcontext\u001b[0m\u001b[0;34m.\u001b[0m\u001b[0mexecution_mode\u001b[0m\u001b[0;34m(\u001b[0m\u001b[0mcontext\u001b[0m\u001b[0;34m.\u001b[0m\u001b[0mSYNC\u001b[0m\u001b[0;34m)\u001b[0m\u001b[0;34m:\u001b[0m\u001b[0;34m\u001b[0m\u001b[0;34m\u001b[0m\u001b[0m\n\u001b[0;32m--> 749\u001b[0;31m       ret = gen_dataset_ops.iterator_get_next(\n\u001b[0m\u001b[1;32m    750\u001b[0m           \u001b[0mself\u001b[0m\u001b[0;34m.\u001b[0m\u001b[0m_iterator_resource\u001b[0m\u001b[0;34m,\u001b[0m\u001b[0;34m\u001b[0m\u001b[0;34m\u001b[0m\u001b[0m\n\u001b[1;32m    751\u001b[0m           \u001b[0moutput_types\u001b[0m\u001b[0;34m=\u001b[0m\u001b[0mself\u001b[0m\u001b[0;34m.\u001b[0m\u001b[0m_flat_output_types\u001b[0m\u001b[0;34m,\u001b[0m\u001b[0;34m\u001b[0m\u001b[0;34m\u001b[0m\u001b[0m\n",
      "\u001b[0;32m~/opt/anaconda3/lib/python3.8/site-packages/tensorflow/python/ops/gen_dataset_ops.py\u001b[0m in \u001b[0;36miterator_get_next\u001b[0;34m(iterator, output_types, output_shapes, name)\u001b[0m\n\u001b[1;32m   3015\u001b[0m       \u001b[0;32mreturn\u001b[0m \u001b[0m_result\u001b[0m\u001b[0;34m\u001b[0m\u001b[0;34m\u001b[0m\u001b[0m\n\u001b[1;32m   3016\u001b[0m     \u001b[0;32mexcept\u001b[0m \u001b[0m_core\u001b[0m\u001b[0;34m.\u001b[0m\u001b[0m_NotOkStatusException\u001b[0m \u001b[0;32mas\u001b[0m \u001b[0me\u001b[0m\u001b[0;34m:\u001b[0m\u001b[0;34m\u001b[0m\u001b[0;34m\u001b[0m\u001b[0m\n\u001b[0;32m-> 3017\u001b[0;31m       \u001b[0m_ops\u001b[0m\u001b[0;34m.\u001b[0m\u001b[0mraise_from_not_ok_status\u001b[0m\u001b[0;34m(\u001b[0m\u001b[0me\u001b[0m\u001b[0;34m,\u001b[0m \u001b[0mname\u001b[0m\u001b[0;34m)\u001b[0m\u001b[0;34m\u001b[0m\u001b[0;34m\u001b[0m\u001b[0m\n\u001b[0m\u001b[1;32m   3018\u001b[0m     \u001b[0;32mexcept\u001b[0m \u001b[0m_core\u001b[0m\u001b[0;34m.\u001b[0m\u001b[0m_FallbackException\u001b[0m\u001b[0;34m:\u001b[0m\u001b[0;34m\u001b[0m\u001b[0;34m\u001b[0m\u001b[0m\n\u001b[1;32m   3019\u001b[0m       \u001b[0;32mpass\u001b[0m\u001b[0;34m\u001b[0m\u001b[0;34m\u001b[0m\u001b[0m\n",
      "\u001b[0;32m~/opt/anaconda3/lib/python3.8/site-packages/tensorflow/python/framework/ops.py\u001b[0m in \u001b[0;36mraise_from_not_ok_status\u001b[0;34m(e, name)\u001b[0m\n\u001b[1;32m   7162\u001b[0m \u001b[0;32mdef\u001b[0m \u001b[0mraise_from_not_ok_status\u001b[0m\u001b[0;34m(\u001b[0m\u001b[0me\u001b[0m\u001b[0;34m,\u001b[0m \u001b[0mname\u001b[0m\u001b[0;34m)\u001b[0m\u001b[0;34m:\u001b[0m\u001b[0;34m\u001b[0m\u001b[0;34m\u001b[0m\u001b[0m\n\u001b[1;32m   7163\u001b[0m   \u001b[0me\u001b[0m\u001b[0;34m.\u001b[0m\u001b[0mmessage\u001b[0m \u001b[0;34m+=\u001b[0m \u001b[0;34m(\u001b[0m\u001b[0;34m\" name: \"\u001b[0m \u001b[0;34m+\u001b[0m \u001b[0mname\u001b[0m \u001b[0;32mif\u001b[0m \u001b[0mname\u001b[0m \u001b[0;32mis\u001b[0m \u001b[0;32mnot\u001b[0m \u001b[0;32mNone\u001b[0m \u001b[0;32melse\u001b[0m \u001b[0;34m\"\"\u001b[0m\u001b[0;34m)\u001b[0m\u001b[0;34m\u001b[0m\u001b[0;34m\u001b[0m\u001b[0m\n\u001b[0;32m-> 7164\u001b[0;31m   \u001b[0;32mraise\u001b[0m \u001b[0mcore\u001b[0m\u001b[0;34m.\u001b[0m\u001b[0m_status_to_exception\u001b[0m\u001b[0;34m(\u001b[0m\u001b[0me\u001b[0m\u001b[0;34m)\u001b[0m \u001b[0;32mfrom\u001b[0m \u001b[0;32mNone\u001b[0m  \u001b[0;31m# pylint: disable=protected-access\u001b[0m\u001b[0;34m\u001b[0m\u001b[0;34m\u001b[0m\u001b[0m\n\u001b[0m\u001b[1;32m   7165\u001b[0m \u001b[0;34m\u001b[0m\u001b[0m\n\u001b[1;32m   7166\u001b[0m \u001b[0;34m\u001b[0m\u001b[0m\n",
      "\u001b[0;31mDataLossError\u001b[0m: corrupted record at 0 [Op:IteratorGetNext]"
     ]
    }
   ],
   "source": [
    "inputs, labels = next(iter(dataset)) \n",
    "\n"
   ]
  },
  {
   "cell_type": "markdown",
   "id": "85ddd2bb",
   "metadata": {
    "papermill": {
     "duration": 0.028587,
     "end_time": "2022-03-19T19:43:12.206008",
     "exception": false,
     "start_time": "2022-03-19T19:43:12.177421",
     "status": "completed"
    },
    "tags": []
   },
   "source": [
    "I'd like to consider the average neighbor fire scores eventually. The function below helps me do that. Form: array_out = avg_neighbors(array_in)"
   ]
  },
  {
   "cell_type": "code",
   "execution_count": null,
   "id": "c7ea3980",
   "metadata": {
    "execution": {
     "iopub.execute_input": "2022-03-19T19:43:12.265786Z",
     "iopub.status.busy": "2022-03-19T19:43:12.265082Z",
     "iopub.status.idle": "2022-03-19T19:43:12.284054Z",
     "shell.execute_reply": "2022-03-19T19:43:12.284622Z",
     "shell.execute_reply.started": "2022-03-19T18:27:10.474923Z"
    },
    "papermill": {
     "duration": 0.050569,
     "end_time": "2022-03-19T19:43:12.284801",
     "exception": false,
     "start_time": "2022-03-19T19:43:12.234232",
     "status": "completed"
    },
    "tags": []
   },
   "outputs": [],
   "source": [
    "#Eventually would like a function that takes in an input array of dimensions nxn, \n",
    "#outputs an array that gives avg of each cell's neighbors:\n",
    "def avg_neighbors(array_in):\n",
    "    #Check input\n",
    "    if array_in.shape[0] != array_in.shape[1]:\n",
    "        raise Exception('Only square arrays make sense here, since you\\'re analyzing square arrays.')\n",
    "    #Maybe should also do type-checking, but leave it for now.\n",
    "    \n",
    "    #Prepare the output array:\n",
    "    n = array_in.shape[0] \n",
    "    array_out = np.zeros((n,n))\n",
    "    \n",
    "    #Guess who doesn't know how to do signal processing in Python...\n",
    "    \n",
    "    for i in range(n):\n",
    "        for j in range(n):\n",
    "            if i == 0:\n",
    "                #Upper edge\n",
    "                if j == 0:\n",
    "                    #Upper left corner\n",
    "                    sum_neighbors = array_in[i+1, j] + array_in[i, j+1] + array_in[i+1, j+1]\n",
    "                    avg = sum_neighbors/3\n",
    "                    \n",
    "                elif j == (n-1):\n",
    "                    #Upper right corner\n",
    "                    sum_neighbors = array_in[i, j-1] + array_in[i+1, j] + array_in[i+1, j-1]\n",
    "                    avg = sum_neighbors/3\n",
    "                    \n",
    "                else:\n",
    "                    #Upper edge except corners\n",
    "                    sum_neighbors = array_in[i, j-1] + array_in[i+1, j] + array_in[i, j+1] + array_in[i+1, j-1] + array_in[i+1, j+1]\n",
    "                    avg = sum_neighbors/5\n",
    "                   \n",
    "            elif i == (n-1):\n",
    "                #Lower edge\n",
    "                if j == 0:\n",
    "                    #Lower left corner\n",
    "                    sum_neighbors = array_in[i-1, j] + array_in[i, j+1] + array_in[i-1, j+1]\n",
    "                    avg = sum_neighbors/3\n",
    "                    \n",
    "                elif j == (n-1):\n",
    "                    #Lower right corner\n",
    "                    sum_neighbors = array_in[i, j-1] + array_in[i-1, j] + array_in[i-1, j-1]\n",
    "                    avg = sum_neighbors/3\n",
    "                    \n",
    "                else:\n",
    "                    #Lower edge except corners\n",
    "                    sum_neighbors = array_in[i, j-1] + array_in[i, j+1] + array_in[i-1, j] + array_in[i-1, j-1] + array_in[i-1, j+1]\n",
    "                    avg = sum_neighbors/5\n",
    "                    \n",
    "            else:\n",
    "                if j == 0:\n",
    "                    #Left edge except corners\n",
    "                    sum_neighbors = array_in[i-1, j] + array_in[i+1, j] + array_in[i, j+1] + array_in[i-1, j+1] + array_in[i+1, j+1]\n",
    "                    avg = sum_neighbors/5\n",
    "                    \n",
    "                elif j == (n-1):\n",
    "                    #Right edge except corners\n",
    "                    sum_neighbors = array_in[i-1, j] + array_in[i+1, j] + array_in[i, j-1] + array_in[i-1, j-1] + array_in[i+1, j-1]\n",
    "                    avg = sum_neighbors/5\n",
    "                    \n",
    "                else:\n",
    "                    #Not on any edge or corner\n",
    "                    sum_neighbors = array_in[i, j+1] + array_in[i, j-1] + array_in[i-1, j] + array_in[i+1, j] + \\\n",
    "                                    array_in[i-1, j-1] + array_in[i-1, j+1] + array_in[i+1, j-1] + array_in[i+1, j+1]\n",
    "                    avg = sum_neighbors/8\n",
    "                    \n",
    "                    \n",
    "            array_out[i,j] = avg\n",
    "            #/for loop body\n",
    "        \n",
    "    return array_out\n",
    "                    \n",
    "                    \n",
    "    "
   ]
  },
  {
   "cell_type": "markdown",
   "id": "48c6a8c5",
   "metadata": {
    "papermill": {
     "duration": 0.027847,
     "end_time": "2022-03-19T19:43:12.340596",
     "exception": false,
     "start_time": "2022-03-19T19:43:12.312749",
     "status": "completed"
    },
    "tags": []
   },
   "source": [
    "Here, I test the function: "
   ]
  },
  {
   "cell_type": "code",
   "execution_count": null,
   "id": "bf891900",
   "metadata": {
    "execution": {
     "iopub.execute_input": "2022-03-19T19:43:12.399706Z",
     "iopub.status.busy": "2022-03-19T19:43:12.398806Z",
     "iopub.status.idle": "2022-03-19T19:43:12.404775Z",
     "shell.execute_reply": "2022-03-19T19:43:12.405295Z",
     "shell.execute_reply.started": "2022-03-19T18:27:10.489984Z"
    },
    "jupyter": {
     "source_hidden": true
    },
    "papermill": {
     "duration": 0.037025,
     "end_time": "2022-03-19T19:43:12.405533",
     "exception": false,
     "start_time": "2022-03-19T19:43:12.368508",
     "status": "completed"
    },
    "tags": []
   },
   "outputs": [],
   "source": [
    "#Test the function from above:\n",
    "import numpy as np\n",
    "arr = [[1,2,3], \n",
    "       [4,5,6],\n",
    "       [7,8,9]]\n",
    "arr = np.array(arr)\n",
    "arr_avgs = avg_neighbors(arr)\n",
    "print(arr_avgs)\n",
    "#Good: appears to work"
   ]
  },
  {
   "cell_type": "code",
   "execution_count": null,
   "id": "52151aac",
   "metadata": {
    "execution": {
     "iopub.execute_input": "2022-03-19T19:43:12.466350Z",
     "iopub.status.busy": "2022-03-19T19:43:12.465649Z",
     "iopub.status.idle": "2022-03-19T19:43:12.475526Z",
     "shell.execute_reply": "2022-03-19T19:43:12.476004Z",
     "shell.execute_reply.started": "2022-03-19T18:27:10.506861Z"
    },
    "jupyter": {
     "source_hidden": true
    },
    "papermill": {
     "duration": 0.042102,
     "end_time": "2022-03-19T19:43:12.476184",
     "exception": false,
     "start_time": "2022-03-19T19:43:12.434082",
     "status": "completed"
    },
    "tags": []
   },
   "outputs": [],
   "source": [
    "#Let's experiment to see if I know what's going on in the code cell 35 above:\n",
    "ls = ['Staring', 'at', 'the', 'tiny', 'planet', 'God', 'calculated', 'again']\n",
    "ls_iter = iter(ls)\n",
    "for i in range (len(ls)):\n",
    "    print(next(ls_iter))\n",
    "    \n",
    "#Ok, so far so good\n",
    "ls2 = [['There', 'was'], ['no', 'room'], ['for', 'a'], ['continuous', 'forest']]\n",
    "ls2_iter = iter(ls2)\n",
    "for i in range (len(ls2)):\n",
    "    first_word, second_word = next(ls2_iter)\n",
    "    print(first_word, second_word)\n",
    "#Yes, ok, working as expected\n",
    "\n",
    "\n"
   ]
  },
  {
   "cell_type": "code",
   "execution_count": null,
   "id": "19e7cf14",
   "metadata": {
    "execution": {
     "iopub.execute_input": "2022-03-19T19:43:12.538617Z",
     "iopub.status.busy": "2022-03-19T19:43:12.537437Z",
     "iopub.status.idle": "2022-03-19T19:43:12.584531Z",
     "shell.execute_reply": "2022-03-19T19:43:12.583987Z",
     "shell.execute_reply.started": "2022-03-19T18:27:10.518079Z"
    },
    "jupyter": {
     "outputs_hidden": true,
     "source_hidden": true
    },
    "papermill": {
     "duration": 0.079866,
     "end_time": "2022-03-19T19:43:12.584673",
     "exception": false,
     "start_time": "2022-03-19T19:43:12.504807",
     "status": "completed"
    },
    "tags": []
   },
   "outputs": [],
   "source": [
    "#Let's try using the function above on the previous fire masks:\n",
    "#This code (is supposed to) find the first \"interesting\" previous fire mask and compute the avg number of neighboring \n",
    "#on-fire cells for each cell\n",
    "\n",
    "prev_fire_masks = inputs[:, :, :, 11] #observation number, pixel row, pixel col\n",
    "\n",
    "found_it_flag = 0 #will set to 1 once we've found our \"interesting\" fire mask\n",
    "img_num = 0\n",
    "while found_it_flag == 0:\n",
    "    fire_mask = np.array(prev_fire_masks[img_num, :, :])\n",
    "    if (np.all( (fire_mask == 0)) ): #if boring picture where there's no fire, toss it\n",
    "        img_num = img_num + 1\n",
    "    elif (np.all( np.invert(fire_mask == -1) )): #if NO data is missing data, cond. is TRUE --> you want this one\n",
    "        test_img = fire_mask\n",
    "        found_it_flag = 1\n",
    "    else:\n",
    "        img_num = img_num + 1\n",
    "\n",
    "np.set_printoptions(threshold=np.inf) #this just stops Jupyter from truncating the output\n",
    "print('fire mask:\\n', fire_mask, '\\n\\n')\n",
    "print('computed avg neighbor fire mask:\\n', avg_neighbors(fire_mask))\n",
    "#Note: don't freak out when you see the second matrix \"look bigger\" than the first. The dimensions are correct; the second matrix\n",
    "#is just visually larger because instead of 0s and 1s its entries are 3fs.\n",
    "#Tested with small grids (9x9) and appears to work."
   ]
  },
  {
   "cell_type": "markdown",
   "id": "52572e61",
   "metadata": {
    "papermill": {
     "duration": 0.028935,
     "end_time": "2022-03-19T19:43:12.643531",
     "exception": false,
     "start_time": "2022-03-19T19:43:12.614596",
     "status": "completed"
    },
    "tags": []
   },
   "source": [
    "In the next several cells, we eliminate observations where there is missing or uncertain data in the previous fire mask."
   ]
  },
  {
   "cell_type": "code",
   "execution_count": null,
   "id": "2c0cffd9",
   "metadata": {
    "execution": {
     "iopub.execute_input": "2022-03-19T19:43:12.712448Z",
     "iopub.status.busy": "2022-03-19T19:43:12.711317Z",
     "iopub.status.idle": "2022-03-19T19:43:12.743082Z",
     "shell.execute_reply": "2022-03-19T19:43:12.742087Z",
     "shell.execute_reply.started": "2022-03-19T18:27:10.559908Z"
    },
    "papermill": {
     "duration": 0.069908,
     "end_time": "2022-03-19T19:43:12.743283",
     "exception": false,
     "start_time": "2022-03-19T19:43:12.673375",
     "status": "completed"
    },
    "tags": []
   },
   "outputs": [],
   "source": [
    "#Try to eliminate all observations where there are uncertain squares in the previous fire mask.\n",
    "prev_masks_array = np.array(inputs[:, :, :, 11])\n",
    "#print(prev_masks_array.shape) #100x32x32—good!\n",
    "\n",
    "#Build the array of certain data AND SAVE THE INDICES\n",
    "first_find_flag = 1\n",
    "count = 0\n",
    "indices = []\n",
    "\n",
    "for img_num in range(num_obs): \n",
    "    fire_mask = np.array(prev_fire_masks[img_num, :, :])\n",
    "    if (np.all( np.invert(fire_mask == -1) )): #If no missing data, condition is TRUE.\n",
    "        count += 1\n",
    "        indices.append(img_num)\n",
    "        if first_find_flag == 1: #If you need to start the array\n",
    "            certain_prev_fire_masks = fire_mask\n",
    "            first_find_flag = 0  #Remember to turn the flag off!\n",
    "        else:\n",
    "            certain_prev_fire_masks = np.dstack((certain_prev_fire_masks, fire_mask)) #d\n",
    "            \n",
    "\n",
    "#Test: You want the printouts from the following three lines to be consistent\n",
    "print(certain_prev_fire_masks.shape)\n",
    "print(count) \n",
    "print(len(indices))\n",
    "#Good, they are.\n",
    "        "
   ]
  },
  {
   "cell_type": "code",
   "execution_count": null,
   "id": "ea1d60b4",
   "metadata": {
    "execution": {
     "iopub.execute_input": "2022-03-19T19:43:12.808411Z",
     "iopub.status.busy": "2022-03-19T19:43:12.807252Z",
     "iopub.status.idle": "2022-03-19T19:43:12.902717Z",
     "shell.execute_reply": "2022-03-19T19:43:12.902036Z",
     "shell.execute_reply.started": "2022-03-19T18:27:10.596617Z"
    },
    "papermill": {
     "duration": 0.128875,
     "end_time": "2022-03-19T19:43:12.902871",
     "exception": false,
     "start_time": "2022-03-19T19:43:12.773996",
     "status": "completed"
    },
    "tags": []
   },
   "outputs": [],
   "source": [
    "#Now that I've found the observations with \"pristine\" previous fire masks, I'd like to get those observations' features matrices\n",
    "full_input_array = np.array(inputs) #100x32x32x12\n",
    "\n",
    "for i, index in enumerate(indices):\n",
    "    if i == 0:\n",
    "        certain_input_array = full_input_array[index,:,:,:]\n",
    "        print(certain_input_array.shape) #32x32x12\n",
    "    elif i == 1:\n",
    "        certain_input_array = np.concatenate((certain_input_array[..., np.newaxis], full_input_array[index,:,:,:, np.newaxis]), axis=3)\n",
    "    else:\n",
    "        certain_input_array = np.concatenate((certain_input_array, full_input_array[index,:,:,:, np.newaxis]), axis=3)\n",
    "        \n",
    "print(certain_input_array.shape)\n",
    "#SUCCESS! :) :) :) \n",
    "#certain_input_array now holds only the 77 observations with certain previous fire masks\n"
   ]
  },
  {
   "cell_type": "code",
   "execution_count": null,
   "id": "e00b020a",
   "metadata": {
    "execution": {
     "iopub.execute_input": "2022-03-19T19:43:12.976681Z",
     "iopub.status.busy": "2022-03-19T19:43:12.971383Z",
     "iopub.status.idle": "2022-03-19T19:43:14.037861Z",
     "shell.execute_reply": "2022-03-19T19:43:14.038386Z",
     "shell.execute_reply.started": "2022-03-19T18:27:10.681863Z"
    },
    "papermill": {
     "duration": 1.10558,
     "end_time": "2022-03-19T19:43:14.038614",
     "exception": false,
     "start_time": "2022-03-19T19:43:12.933034",
     "status": "completed"
    },
    "tags": []
   },
   "outputs": [],
   "source": [
    "#Also want the labels at only these indices and the average neighbor value matrices\n",
    "full_labels = np.array(labels)\n",
    "#print(labels.shape) 100x32x32x1, as expected\n",
    "\n",
    "for i, index in enumerate(indices):\n",
    "    if i == 0:\n",
    "        #labels\n",
    "        certain_labels = full_labels[index,:,:,:] #32x32x1\n",
    "        \n",
    "        #avg neighbor values\n",
    "        surrounding_fire_scores = avg_neighbors(full_labels[index,:,:,:])\n",
    "        surrounding_fire_scores = surrounding_fire_scores[..., np.newaxis]\n",
    "        \n",
    "    else:\n",
    "        #labels\n",
    "        certain_labels = np.concatenate((certain_labels, full_labels[index,:,:,:]), axis=2)\n",
    "        \n",
    "        #avg neighbor values\n",
    "        avg_mat = avg_neighbors(full_labels[index,:,:,:])\n",
    "        surrounding_fire_scores = np.concatenate((surrounding_fire_scores, avg_mat[...,np.newaxis]), axis=2)\n",
    "\n",
    "#Printouts from following lines should agree...\n",
    "print(certain_labels.shape) #32x32x77 \n",
    "print(surrounding_fire_scores.shape) #32x32x77 \n",
    "#... and they do! :)"
   ]
  },
  {
   "cell_type": "code",
   "execution_count": null,
   "id": "1776de70",
   "metadata": {
    "execution": {
     "iopub.execute_input": "2022-03-19T19:43:14.113756Z",
     "iopub.status.busy": "2022-03-19T19:43:14.113054Z",
     "iopub.status.idle": "2022-03-19T19:43:14.116528Z",
     "shell.execute_reply": "2022-03-19T19:43:14.115905Z",
     "shell.execute_reply.started": "2022-03-19T18:27:11.336396Z"
    },
    "papermill": {
     "duration": 0.046743,
     "end_time": "2022-03-19T19:43:14.116673",
     "exception": false,
     "start_time": "2022-03-19T19:43:14.069930",
     "status": "completed"
    },
    "tags": []
   },
   "outputs": [],
   "source": [
    "#Function to identify certain observations in the previous fire mask and return:\n",
    "#1) a list of their indices in the batch (need this to grab the right ones from the labels) and \n",
    "#2) the actual array of certain observations\n",
    "\n",
    "def elim_uncertain(prev_fire_mask_batch):\n",
    "    \n",
    "    prev_masks_array = np.array(prev_fire_mask_batch)\n",
    "    num_imgs, rows, cols = prev_masks_array.shape\n",
    "    \n",
    "    #Build the array of certain data AND SAVE THE INDICES\n",
    "    first_find_flag = 1\n",
    "    count = 0\n",
    "    indices = []\n",
    "\n",
    "    for img_num in range(num_imgs): \n",
    "        fire_mask = prev_fire_mask_batch[img_num, :, :] #grab the \"working fire mask\" off the pile\n",
    "        \n",
    "        if (np.all( np.invert(fire_mask == -1) )): #If no missing data, condition is TRUE.\n",
    "            count += 1\n",
    "            indices.append(img_num)\n",
    "            if first_find_flag == 1: #If you need to start the array\n",
    "                certain_prev_fire_masks_batch = fire_mask\n",
    "                first_find_flag = 0  #Remember to turn the flag off!\n",
    "            else:\n",
    "                certain_prev_fire_masks_batch = np.dstack((certain_prev_fire_masks_batch, fire_mask)) \n",
    "    \n",
    "    return certain_prev_fire_masks_batch, indices"
   ]
  },
  {
   "cell_type": "code",
   "execution_count": null,
   "id": "6f00156b",
   "metadata": {
    "execution": {
     "iopub.execute_input": "2022-03-19T19:43:14.186651Z",
     "iopub.status.busy": "2022-03-19T19:43:14.185973Z",
     "iopub.status.idle": "2022-03-19T19:43:14.188929Z",
     "shell.execute_reply": "2022-03-19T19:43:14.188255Z",
     "shell.execute_reply.started": "2022-03-19T18:27:11.343201Z"
    },
    "papermill": {
     "duration": 0.042181,
     "end_time": "2022-03-19T19:43:14.189077",
     "exception": false,
     "start_time": "2022-03-19T19:43:14.146896",
     "status": "completed"
    },
    "tags": []
   },
   "outputs": [],
   "source": [
    "#Function to extract only the labels (i.e. current fire masks) from the certain observations\n",
    "def extract_certain_labels(certain_indices, og_labels):\n",
    "    \n",
    "    for i, index in enumerate(certain_indices):\n",
    "        if i == 0:\n",
    "            extracted_labels = og_labels[index,:,:,:] #the og_labels dimensions are batch_size by sidelength by sidelength by 1\n",
    "        else:\n",
    "            #labels\n",
    "            extracted_labels = np.concatenate((extracted_labels, og_labels[index,:,:,:]), axis=2)\n",
    "\n",
    "    return extracted_labels"
   ]
  },
  {
   "cell_type": "code",
   "execution_count": null,
   "id": "46c1037a",
   "metadata": {
    "execution": {
     "iopub.execute_input": "2022-03-19T19:43:14.256869Z",
     "iopub.status.busy": "2022-03-19T19:43:14.256156Z",
     "iopub.status.idle": "2022-03-19T19:43:14.259244Z",
     "shell.execute_reply": "2022-03-19T19:43:14.258618Z",
     "shell.execute_reply.started": "2022-03-19T18:56:31.460963Z"
    },
    "papermill": {
     "duration": 0.039878,
     "end_time": "2022-03-19T19:43:14.259395",
     "exception": false,
     "start_time": "2022-03-19T19:43:14.219517",
     "status": "completed"
    },
    "tags": []
   },
   "outputs": [],
   "source": [
    "#Create multi-D array of neighbor fire values\n",
    "def avg_neighbor_batch(batch_in):\n",
    "    rows, cols, batch_size = batch_in.shape #ordering of dimensions here meant to be compatible with elim_uncertain and extract_certain_labels\n",
    "    batch_out = np.zeros((rows, cols, batch_size))\n",
    "    for i in range(batch_size):\n",
    "        working_arr = batch_in[:,:,i]\n",
    "        avgd_arr = avg_neighbors(working_arr)\n",
    "        batch_out[:,:,i] =  avgd_arr\n",
    "    #/for loop\n",
    "    \n",
    "    return batch_out"
   ]
  },
  {
   "cell_type": "code",
   "execution_count": null,
   "id": "b12edca5",
   "metadata": {
    "execution": {
     "iopub.execute_input": "2022-03-19T19:43:14.326812Z",
     "iopub.status.busy": "2022-03-19T19:43:14.326082Z",
     "iopub.status.idle": "2022-03-19T19:43:15.136219Z",
     "shell.execute_reply": "2022-03-19T19:43:15.135574Z",
     "shell.execute_reply.started": "2022-03-19T19:19:23.908200Z"
    },
    "papermill": {
     "duration": 0.846673,
     "end_time": "2022-03-19T19:43:15.136363",
     "exception": false,
     "start_time": "2022-03-19T19:43:14.289690",
     "status": "completed"
    },
    "tags": []
   },
   "outputs": [],
   "source": [
    "#Test functions above:\n",
    "import numpy as np\n",
    "full_prev_fire_masks = np.array(inputs[:,:,:,11]) #just grabs the previous fire masks from the full observation multi-D array\n",
    "full_curr_fire_masks = np.array(labels) #100x32x32x1\n",
    "\n",
    "certain_prev_masks, certain_indices = elim_uncertain(full_prev_fire_masks) #32x32x86 (generally: sidelength^2 x #certain obs.)\n",
    "certain_labels = extract_certain_labels(certain_indices, full_curr_fire_masks) #32x32x86 (generally: sidelength^2 x #certain obs.)\n",
    "avg_neighbors_feat = avg_neighbor_batch(certain_prev_masks) #32x32x86 (generally: sidelength^2 x #certain obs.)\n",
    "\n",
    "#Success! Note that new format for certain_labels and certain_prev_masks is rows, cols, index in (new, certain-only) pile."
   ]
  },
  {
   "cell_type": "code",
   "execution_count": null,
   "id": "3a85a997",
   "metadata": {
    "execution": {
     "iopub.execute_input": "2022-03-19T19:43:15.239139Z",
     "iopub.status.busy": "2022-03-19T19:43:15.223355Z",
     "iopub.status.idle": "2022-03-19T19:43:16.545850Z",
     "shell.execute_reply": "2022-03-19T19:43:16.546899Z",
     "shell.execute_reply.started": "2022-03-19T19:40:06.350036Z"
    },
    "papermill": {
     "duration": 1.380022,
     "end_time": "2022-03-19T19:43:16.547200",
     "exception": false,
     "start_time": "2022-03-19T19:43:15.167178",
     "status": "completed"
    },
    "tags": []
   },
   "outputs": [],
   "source": [
    "#Benchmark method: Try linear regression based on only:\n",
    "#1) whether a given pixel is currently on fire and \n",
    "#2) number of neighbors that are currently on fire\n",
    "\n",
    "#Vectorize previous fire masks\n",
    "flat_prev_masks = []\n",
    "\n",
    "#Remembering that Python is zero-indexed is going to be VERY IMPORTANT in the below!\n",
    "for obs in range(certain_prev_masks.shape[2]):\n",
    "    for row in range(certain_prev_masks.shape[0]):\n",
    "        for col in range(certain_prev_masks.shape[1]):\n",
    "            flat_prev_masks.append(certain_prev_masks[row, col, obs])\n",
    "flat_prev_masks = np.array(flat_prev_masks)\n",
    "\n",
    "#Vectorize avg neighbors\n",
    "flat_avg_nbrs = []\n",
    "for obs in range(avg_neighbors_feat.shape[2]):\n",
    "    for row in range(avg_neighbors_feat.shape[0]):\n",
    "        for col in range(avg_neighbors_feat.shape[1]):\n",
    "            flat_avg_nbrs.append(avg_neighbors_feat[row, col, obs])\n",
    "flat_avg_nbrs = np.array(flat_avg_nbrs)\n",
    "\n",
    "            \n",
    "#print(flat_prev_masks.shape)\n",
    "#print(flat_avg_nbrs.shape)\n",
    "\n",
    "X_train = np.vstack((np.transpose(flat_prev_masks), np.transpose(flat_avg_nbrs))) \n",
    "X_train = np.transpose(X_train) #so that observations correspond to rows now\n",
    "\n",
    "#Vectorize labels\n",
    "flat_labels = []\n",
    "for obs in range(certain_labels.shape[2]):\n",
    "    for row in range(certain_labels.shape[0]):\n",
    "        for col in range(certain_labels.shape[1]):\n",
    "            flat_labels.append(certain_labels[row, col, obs])\n",
    "flat_labels = np.array(flat_labels)\n",
    "\n",
    "Y_train = flat_labels\n",
    "#print(Y_train.shape)\n",
    "\n",
    "variables = [\"currently on fire?\", \"# of neighbors currently on fire\"]\n",
    "\n",
    "#Regression time!\n",
    "#Note that I do NOT want to standardize in this simple case because the units are the same for the two inputs (#pix on fire)\n",
    "from sklearn.linear_model import LinearRegression\n",
    "from sklearn.model_selection import cross_val_score\n",
    "from sklearn.metrics import mean_squared_error, r2_score\n",
    "\n",
    "lr_fire = LinearRegression().fit(X_train, Y_train)\n",
    "\n",
    "print('training R2-score:', np.round(   r2_score(  Y_train, lr_fire.predict(X_train)),2  )   ) \n",
    "\n",
    "scores_fire = cross_val_score(lr_fire, X_train, Y_train, cv=10, scoring='r2')\n",
    "\n",
    "print(\"validation R2-scores:\",np.round(scores_fire,2))\n",
    "print(\"average:\", np.round(np.mean(scores_fire),2))\n",
    "\n",
    "print('LR coefficients:')\n",
    "for i, coeff in enumerate(lr_fire.coef_):\n",
    "    print('{0:5s}  {1:>-10.2f}'.format(variables[i], np.round(coeff,2)))\n"
   ]
  },
  {
   "cell_type": "markdown",
   "id": "b97a139b",
   "metadata": {
    "id": "bzCgCoxtgP-f",
    "papermill": {
     "duration": 0.0562,
     "end_time": "2022-03-19T19:43:16.660951",
     "exception": false,
     "start_time": "2022-03-19T19:43:16.604751",
     "status": "completed"
    },
    "tags": []
   },
   "source": [
    "# Plotting function"
   ]
  },
  {
   "cell_type": "markdown",
   "id": "37b0b8fd",
   "metadata": {
    "papermill": {
     "duration": 0.031646,
     "end_time": "2022-03-19T19:43:16.723648",
     "exception": false,
     "start_time": "2022-03-19T19:43:16.692002",
     "status": "completed"
    },
    "tags": []
   },
   "source": [
    "Let's plot the data!\n",
    "\n",
    "First we define the names for each of our variables."
   ]
  },
  {
   "cell_type": "code",
   "execution_count": 14,
   "id": "51ef5a2f",
   "metadata": {
    "execution": {
     "iopub.execute_input": "2022-03-19T19:43:16.791082Z",
     "iopub.status.busy": "2022-03-19T19:43:16.790340Z",
     "iopub.status.idle": "2022-03-19T19:43:16.792088Z",
     "shell.execute_reply": "2022-03-19T19:43:16.792554Z",
     "shell.execute_reply.started": "2022-03-19T18:27:11.384462Z"
    },
    "id": "bnG0_l_ChjUt",
    "papermill": {
     "duration": 0.038443,
     "end_time": "2022-03-19T19:43:16.792727",
     "exception": false,
     "start_time": "2022-03-19T19:43:16.754284",
     "status": "completed"
    },
    "tags": []
   },
   "outputs": [],
   "source": [
    "TITLES = [\n",
    "  'Elevation',\n",
    "  'Wind\\ndirection',\n",
    "  'Wind\\nvelocity',\n",
    "  'Min\\ntemp',\n",
    "  'Max\\ntemp',\n",
    "  'Humidity',\n",
    "  'Precip',\n",
    "  'Drought',\n",
    "  'Vegetation',\n",
    "  'Population\\ndensity',\n",
    "  'Energy\\nrelease\\ncomponent',\n",
    "  'Previous\\nfire\\nmask',\n",
    "  'Fire\\nmask'\n",
    "]"
   ]
  },
  {
   "cell_type": "markdown",
   "id": "076d14df",
   "metadata": {
    "papermill": {
     "duration": 0.030121,
     "end_time": "2022-03-19T19:43:16.853562",
     "exception": false,
     "start_time": "2022-03-19T19:43:16.823441",
     "status": "completed"
    },
    "tags": []
   },
   "source": [
    "Define some helper variables for the plot. "
   ]
  },
  {
   "cell_type": "code",
   "execution_count": 15,
   "id": "7d359fb6",
   "metadata": {
    "execution": {
     "iopub.execute_input": "2022-03-19T19:43:16.917983Z",
     "iopub.status.busy": "2022-03-19T19:43:16.917276Z",
     "iopub.status.idle": "2022-03-19T19:43:16.921791Z",
     "shell.execute_reply": "2022-03-19T19:43:16.922336Z",
     "shell.execute_reply.started": "2022-03-19T18:27:11.396068Z"
    },
    "id": "G0E6lWR9beD0",
    "papermill": {
     "duration": 0.038215,
     "end_time": "2022-03-19T19:43:16.922540",
     "exception": false,
     "start_time": "2022-03-19T19:43:16.884325",
     "status": "completed"
    },
    "tags": []
   },
   "outputs": [
    {
     "ename": "NameError",
     "evalue": "name 'inputs' is not defined",
     "output_type": "error",
     "traceback": [
      "\u001b[0;31m---------------------------------------------------------------------------\u001b[0m",
      "\u001b[0;31mNameError\u001b[0m                                 Traceback (most recent call last)",
      "\u001b[0;32m<ipython-input-15-a9db574e90ba>\u001b[0m in \u001b[0;36m<module>\u001b[0;34m\u001b[0m\n\u001b[1;32m      2\u001b[0m \u001b[0mn_rows\u001b[0m \u001b[0;34m=\u001b[0m \u001b[0;36m5\u001b[0m\u001b[0;34m\u001b[0m\u001b[0;34m\u001b[0m\u001b[0m\n\u001b[1;32m      3\u001b[0m \u001b[0;31m# Number of data variables\u001b[0m\u001b[0;34m\u001b[0m\u001b[0;34m\u001b[0m\u001b[0;34m\u001b[0m\u001b[0m\n\u001b[0;32m----> 4\u001b[0;31m \u001b[0mn_features\u001b[0m \u001b[0;34m=\u001b[0m \u001b[0minputs\u001b[0m\u001b[0;34m.\u001b[0m\u001b[0mshape\u001b[0m\u001b[0;34m[\u001b[0m\u001b[0;36m3\u001b[0m\u001b[0;34m]\u001b[0m\u001b[0;34m\u001b[0m\u001b[0;34m\u001b[0m\u001b[0m\n\u001b[0m\u001b[1;32m      5\u001b[0m \u001b[0;31m# Variables for controllong the color map for the fire masks\u001b[0m\u001b[0;34m\u001b[0m\u001b[0;34m\u001b[0m\u001b[0;34m\u001b[0m\u001b[0m\n\u001b[1;32m      6\u001b[0m \u001b[0mCMAP\u001b[0m \u001b[0;34m=\u001b[0m \u001b[0mcolors\u001b[0m\u001b[0;34m.\u001b[0m\u001b[0mListedColormap\u001b[0m\u001b[0;34m(\u001b[0m\u001b[0;34m[\u001b[0m\u001b[0;34m'black'\u001b[0m\u001b[0;34m,\u001b[0m \u001b[0;34m'silver'\u001b[0m\u001b[0;34m,\u001b[0m \u001b[0;34m'orangered'\u001b[0m\u001b[0;34m]\u001b[0m\u001b[0;34m)\u001b[0m\u001b[0;34m\u001b[0m\u001b[0;34m\u001b[0m\u001b[0m\n",
      "\u001b[0;31mNameError\u001b[0m: name 'inputs' is not defined"
     ]
    }
   ],
   "source": [
    "# Number of rows of data samples to plot\n",
    "n_rows = 5 \n",
    "# Number of data variables\n",
    "n_features = inputs.shape[3]\n",
    "# Variables for controllong the color map for the fire masks\n",
    "CMAP = colors.ListedColormap(['black', 'silver', 'orangered'])\n",
    "BOUNDS = [-1, -0.1, 0.001, 1]\n",
    "NORM = colors.BoundaryNorm(BOUNDS, CMAP.N)"
   ]
  },
  {
   "cell_type": "code",
   "execution_count": 16,
   "id": "decbb03d",
   "metadata": {
    "execution": {
     "iopub.execute_input": "2022-03-19T19:43:16.988511Z",
     "iopub.status.busy": "2022-03-19T19:43:16.987727Z",
     "iopub.status.idle": "2022-03-19T19:43:20.389082Z",
     "shell.execute_reply": "2022-03-19T19:43:20.389613Z",
     "shell.execute_reply.started": "2022-03-19T18:27:11.407179Z"
    },
    "id": "sPtKQzQv71J_",
    "outputId": "6694ad6e-0044-4fbc-b184-f615ac14a885",
    "papermill": {
     "duration": 3.436096,
     "end_time": "2022-03-19T19:43:20.389787",
     "exception": false,
     "start_time": "2022-03-19T19:43:16.953691",
     "status": "completed"
    },
    "tags": []
   },
   "outputs": [
    {
     "ename": "NameError",
     "evalue": "name 'n_features' is not defined",
     "output_type": "error",
     "traceback": [
      "\u001b[0;31m---------------------------------------------------------------------------\u001b[0m",
      "\u001b[0;31mNameError\u001b[0m                                 Traceback (most recent call last)",
      "\u001b[0;32m<ipython-input-16-1dfd84adeb1e>\u001b[0m in \u001b[0;36m<module>\u001b[0;34m\u001b[0m\n\u001b[1;32m      2\u001b[0m \u001b[0;34m\u001b[0m\u001b[0m\n\u001b[1;32m      3\u001b[0m \u001b[0;32mfor\u001b[0m \u001b[0mi\u001b[0m \u001b[0;32min\u001b[0m \u001b[0mrange\u001b[0m\u001b[0;34m(\u001b[0m\u001b[0mn_rows\u001b[0m\u001b[0;34m)\u001b[0m\u001b[0;34m:\u001b[0m\u001b[0;34m\u001b[0m\u001b[0;34m\u001b[0m\u001b[0m\n\u001b[0;32m----> 4\u001b[0;31m   \u001b[0;32mfor\u001b[0m \u001b[0mj\u001b[0m \u001b[0;32min\u001b[0m \u001b[0mrange\u001b[0m\u001b[0;34m(\u001b[0m\u001b[0mn_features\u001b[0m \u001b[0;34m+\u001b[0m \u001b[0;36m1\u001b[0m\u001b[0;34m)\u001b[0m\u001b[0;34m:\u001b[0m\u001b[0;34m\u001b[0m\u001b[0;34m\u001b[0m\u001b[0m\n\u001b[0m\u001b[1;32m      5\u001b[0m     \u001b[0mplt\u001b[0m\u001b[0;34m.\u001b[0m\u001b[0msubplot\u001b[0m\u001b[0;34m(\u001b[0m\u001b[0mn_rows\u001b[0m\u001b[0;34m,\u001b[0m \u001b[0mn_features\u001b[0m \u001b[0;34m+\u001b[0m \u001b[0;36m1\u001b[0m\u001b[0;34m,\u001b[0m \u001b[0mi\u001b[0m \u001b[0;34m*\u001b[0m \u001b[0;34m(\u001b[0m\u001b[0mn_features\u001b[0m \u001b[0;34m+\u001b[0m \u001b[0;36m1\u001b[0m\u001b[0;34m)\u001b[0m \u001b[0;34m+\u001b[0m \u001b[0mj\u001b[0m \u001b[0;34m+\u001b[0m \u001b[0;36m1\u001b[0m\u001b[0;34m)\u001b[0m\u001b[0;34m\u001b[0m\u001b[0;34m\u001b[0m\u001b[0m\n\u001b[1;32m      6\u001b[0m     \u001b[0;32mif\u001b[0m \u001b[0mi\u001b[0m \u001b[0;34m==\u001b[0m \u001b[0;36m0\u001b[0m\u001b[0;34m:\u001b[0m\u001b[0;34m\u001b[0m\u001b[0;34m\u001b[0m\u001b[0m\n",
      "\u001b[0;31mNameError\u001b[0m: name 'n_features' is not defined"
     ]
    },
    {
     "data": {
      "text/plain": [
       "<Figure size 1080x468 with 0 Axes>"
      ]
     },
     "metadata": {},
     "output_type": "display_data"
    }
   ],
   "source": [
    "fig = plt.figure(figsize=(15,6.5))\n",
    "\n",
    "for i in range(n_rows):\n",
    "  for j in range(n_features + 1):\n",
    "    plt.subplot(n_rows, n_features + 1, i * (n_features + 1) + j + 1)\n",
    "    if i == 0:\n",
    "      plt.title(TITLES[j], fontsize=13)\n",
    "    if j < n_features - 1:\n",
    "      plt.imshow(inputs[i, :, :, j], cmap='viridis')\n",
    "    if j == n_features - 1:\n",
    "      plt.imshow(inputs[i, :, :, -1], cmap=CMAP, norm=NORM)\n",
    "    if j == n_features:\n",
    "      plt.imshow(labels[i, :, :, 0], cmap=CMAP, norm=NORM) \n",
    "    plt.axis('off')\n",
    "plt.tight_layout()"
   ]
  },
  {
   "cell_type": "code",
   "execution_count": null,
   "id": "3c26f9dd",
   "metadata": {},
   "outputs": [],
   "source": []
  }
 ],
 "metadata": {
  "kernelspec": {
   "display_name": "Python 3",
   "language": "python",
   "name": "python3"
  },
  "language_info": {
   "codemirror_mode": {
    "name": "ipython",
    "version": 3
   },
   "file_extension": ".py",
   "mimetype": "text/x-python",
   "name": "python",
   "nbconvert_exporter": "python",
   "pygments_lexer": "ipython3",
   "version": "3.8.2"
  },
  "papermill": {
   "default_parameters": {},
   "duration": 27.717773,
   "end_time": "2022-03-19T19:43:23.629414",
   "environment_variables": {},
   "exception": null,
   "input_path": "__notebook__.ipynb",
   "output_path": "__notebook__.ipynb",
   "parameters": {},
   "start_time": "2022-03-19T19:42:55.911641",
   "version": "2.3.3"
  },
  "toc": {
   "base_numbering": 1,
   "nav_menu": {},
   "number_sections": true,
   "sideBar": true,
   "skip_h1_title": false,
   "title_cell": "Table of Contents",
   "title_sidebar": "Contents",
   "toc_cell": false,
   "toc_position": {},
   "toc_section_display": true,
   "toc_window_display": false
  }
 },
 "nbformat": 4,
 "nbformat_minor": 5
}
