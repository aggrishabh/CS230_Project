{
 "cells": [
  {
   "cell_type": "code",
   "execution_count": 19,
   "id": "1d0f22e6-fe0c-4668-a8be-96452d217820",
   "metadata": {},
   "outputs": [
    {
     "name": "stdout",
     "output_type": "stream",
     "text": [
      "Requirement already satisfied: kaggle in c:\\users\\vikas\\anaconda3\\lib\\site-packages (1.5.12)\n",
      "Requirement already satisfied: six>=1.10 in c:\\users\\vikas\\anaconda3\\lib\\site-packages (from kaggle) (1.15.0)\n",
      "Requirement already satisfied: urllib3 in c:\\users\\vikas\\anaconda3\\lib\\site-packages (from kaggle) (1.26.4)\n",
      "Requirement already satisfied: requests in c:\\users\\vikas\\anaconda3\\lib\\site-packages (from kaggle) (2.25.1)\n",
      "Requirement already satisfied: tqdm in c:\\users\\vikas\\anaconda3\\lib\\site-packages (from kaggle) (4.59.0)\n",
      "Requirement already satisfied: python-slugify in c:\\users\\vikas\\anaconda3\\lib\\site-packages (from kaggle) (6.1.2)\n",
      "Requirement already satisfied: certifi in c:\\users\\vikas\\anaconda3\\lib\\site-packages (from kaggle) (2020.12.5)\n",
      "Requirement already satisfied: python-dateutil in c:\\users\\vikas\\anaconda3\\lib\\site-packages (from kaggle) (2.8.1)\n",
      "Requirement already satisfied: text-unidecode>=1.3 in c:\\users\\vikas\\anaconda3\\lib\\site-packages (from python-slugify->kaggle) (1.3)\n",
      "Requirement already satisfied: idna<3,>=2.5 in c:\\users\\vikas\\anaconda3\\lib\\site-packages (from requests->kaggle) (2.10)\n",
      "Requirement already satisfied: chardet<5,>=3.0.2 in c:\\users\\vikas\\anaconda3\\lib\\site-packages (from requests->kaggle) (4.0.0)\n"
     ]
    }
   ],
   "source": [
    "!pip install kaggle"
   ]
  },
  {
   "cell_type": "code",
   "execution_count": 8,
   "id": "f5d36e9a-5f4f-4b9a-ab35-ee9ca76b8282",
   "metadata": {},
   "outputs": [
    {
     "name": "stdout",
     "output_type": "stream",
     "text": [
      "Kaggle API 1.5.12\n"
     ]
    }
   ],
   "source": [
    "!kaggle --version"
   ]
  },
  {
   "cell_type": "code",
   "execution_count": 20,
   "id": "680aabc8-b6a6-4aa2-9034-bce18c77c1a6",
   "metadata": {},
   "outputs": [
    {
     "name": "stdout",
     "output_type": "stream",
     "text": [
      "Requirement already satisfied: unzip in c:\\users\\vikas\\anaconda3\\lib\\site-packages (1.0.0)\n"
     ]
    }
   ],
   "source": [
    "!pip install unzip"
   ]
  },
  {
   "cell_type": "code",
   "execution_count": 26,
   "id": "6602d2bd-97ac-4be8-8d2c-381574745410",
   "metadata": {},
   "outputs": [
    {
     "name": "stdout",
     "output_type": "stream",
     "text": [
      "404 - Not Found\n"
     ]
    }
   ],
   "source": [
    "!kaggle datasets download fantineh/next-day-wildfire-spread"
   ]
  },
  {
   "cell_type": "code",
   "execution_count": 1,
   "id": "d657ef10-ae5c-41cc-9cc6-8d69d750cb4a",
   "metadata": {},
   "outputs": [],
   "source": [
    "import re\n",
    "from typing import Dict, List, Optional, Text, Tuple\n",
    "import matplotlib.pyplot as plt\n",
    "from matplotlib import colors\n",
    "\n",
    "import tensorflow as tf"
   ]
  },
  {
   "cell_type": "code",
   "execution_count": 25,
   "id": "52ff3dbf-4793-4091-84cc-542f867d8b48",
   "metadata": {},
   "outputs": [],
   "source": [
    "file_pattern = '/kaggle/input/next-day-wildfire-spread/next_day_wildfire_spread_train*'\n",
    "list_files = ['next_day_wildfire_spread_train_00.tfrecord','next_day_wildfire_spread_train_01.tfrecord','next_day_wildfire_spread_train_02.tfrecord','next_day_wildfire_spread_train_04.tfrecord','next_day_wildfire_spread_train_05.tfrecord','next_day_wildfire_spread_train_06.tfrecord','next_day_wildfire_spread_train_07.tfrecord','next_day_wildfire_spread_train_08.tfrecord','next_day_wildfire_spread_train_09.tfrecord','next_day_wildfire_spread_train_10.tfrecord','next_day_wildfire_spread_train_11.tfrecord','next_day_wildfire_spread_train_12.tfrecord','next_day_wildfire_spread_train_13.tfrecord','next_day_wildfire_spread_train_14.tfrecord']\n"
   ]
  },
  {
   "cell_type": "code",
   "execution_count": 6,
   "id": "a0d8a243",
   "metadata": {},
   "outputs": [],
   "source": [
    "dataset = tf.data.TFRecordDataset(['next_day_wildfire_spread_train_00.tfrecord','next_day_wildfire_spread_train_01.tfrecord','next_day_wildfire_spread_train_02.tfrecord','next_day_wildfire_spread_train_04.tfrecord','next_day_wildfire_spread_train_05.tfrecord','next_day_wildfire_spread_train_06.tfrecord','next_day_wildfire_spread_train_07.tfrecord','next_day_wildfire_spread_train_08.tfrecord','next_day_wildfire_spread_train_09.tfrecord','next_day_wildfire_spread_train_10.tfrecord','next_day_wildfire_spread_train_11.tfrecord','next_day_wildfire_spread_train_12.tfrecord','next_day_wildfire_spread_train_13.tfrecord','next_day_wildfire_spread_train_14.tfrecord'])"
   ]
  },
  {
   "cell_type": "code",
   "execution_count": 11,
   "id": "f13bdae2",
   "metadata": {},
   "outputs": [],
   "source": [
    "data = tf.data.TFRecordDataset('next_day_wildfire_spread_train_00.tfrecord')"
   ]
  },
  {
   "cell_type": "code",
   "execution_count": 14,
   "id": "7e4a5d09",
   "metadata": {},
   "outputs": [],
   "source": [
    "dataset = dataset.interleave(\n",
    "    lambda x: tf.data.TFRecordDataset(x, compression_type=None),\n",
    "    num_parallel_calls=tf.data.experimental.AUTOTUNE)\n",
    "dataset = dataset.prefetch(buffer_size=tf.data.experimental.AUTOTUNE)"
   ]
  },
  {
   "cell_type": "code",
   "execution_count": 15,
   "id": "7ddc8fdb",
   "metadata": {},
   "outputs": [
    {
     "data": {
      "text/plain": [
       "<PrefetchDataset element_spec=TensorSpec(shape=(), dtype=tf.string, name=None)>"
      ]
     },
     "execution_count": 15,
     "metadata": {},
     "output_type": "execute_result"
    }
   ],
   "source": [
    "dataset"
   ]
  },
  {
   "cell_type": "code",
   "execution_count": 16,
   "id": "85cefd70-5858-4df3-be66-536d9c25bb05",
   "metadata": {},
   "outputs": [],
   "source": [
    "\"\"\"Constants for the data reader.\"\"\"\n",
    "\n",
    "INPUT_FEATURES = ['elevation', 'th', 'vs',  'tmmn', 'tmmx', 'sph', \n",
    "                  'pr', 'pdsi', 'NDVI', 'population', 'erc', 'PrevFireMask']\n",
    "\n",
    "OUTPUT_FEATURES = ['FireMask', ]\n",
    "\n",
    "# Data statistics \n",
    "# For each variable, the statistics are ordered in the form:\n",
    "# (min_clip, max_clip, mean, standard deviation)\n",
    "DATA_STATS = {\n",
    "    # Elevation in m.\n",
    "    # 0.1 percentile, 99.9 percentile\n",
    "    'elevation': (0.0, 3141.0, 657.3003, 649.0147),\n",
    "    \n",
    "    # Drought Index (Palmer Drought Severity Index)\n",
    "    # 0.1 percentile, 99.9 percentile\n",
    "    'pdsi': (-6.12974870967865, 7.876040384292651, -0.0052714925, 2.6823447),\n",
    "    \n",
    "    #Vegetation index (times 10,000 maybe, since it's supposed to be b/w -1 and 1?)\n",
    "    'NDVI': (-9821.0, 9996.0, 5157.625, 2466.6677),  # min, max\n",
    "   \n",
    "    # Precipitation in mm.\n",
    "    # Negative values do not make sense, so min is set to 0.\n",
    "    # 0., 99.9 percentile\n",
    "    'pr': (0.0, 44.53038024902344, 1.7398051, 4.482833),\n",
    "   \n",
    "    # Specific humidity.\n",
    "    # Negative values do not make sense, so min is set to 0.\n",
    "    # The range of specific humidity is up to 100% so max is 1.\n",
    "    'sph': (0., 1., 0.0071658953, 0.0042835088),\n",
    "    \n",
    "    # Wind direction in degrees clockwise from north.\n",
    "    # Thus min set to 0 and max set to 360.\n",
    "    'th': (0., 360.0, 190.32976, 72.59854),\n",
    "    \n",
    "    # Min/max temperature in Kelvin.\n",
    "    \n",
    "    #Min temp\n",
    "    # -20 degree C, 99.9 percentile\n",
    "    'tmmn': (253.15, 298.94891357421875, 281.08768, 8.982386),\n",
    "    \n",
    "    #Max temp\n",
    "    # -20 degree C, 99.9 percentile\n",
    "    'tmmx': (253.15, 315.09228515625, 295.17383, 9.815496),\n",
    "    \n",
    "    # Wind speed in m/s.\n",
    "    # Negative values do not make sense, given there is a wind direction.\n",
    "    # 0., 99.9 percentile\n",
    "    'vs': (0.0, 10.024310074806237, 3.8500874, 1.4109988),\n",
    "    \n",
    "    # NFDRS fire danger index energy release component expressed in BTU's per\n",
    "    # square foot.\n",
    "    # Negative values do not make sense. Thus min set to zero.\n",
    "    # 0., 99.9 percentile\n",
    "    'erc': (0.0, 106.24891662597656, 37.326267, 20.846027),\n",
    "    \n",
    "    # Population density\n",
    "    # min, 99.9 percentile\n",
    "    'population': (0., 2534.06298828125, 25.531384, 154.72331),\n",
    "    \n",
    "    # We don't want to normalize the FireMasks.\n",
    "    # 1 indicates fire, 0 no fire, -1 unlabeled data\n",
    "    'PrevFireMask': (-1., 1., 0., 1.),\n",
    "    'FireMask': (-1., 1., 0., 1.)\n",
    "}"
   ]
  },
  {
   "cell_type": "code",
   "execution_count": 17,
   "id": "01b6452b-e073-488b-8afe-1aeda61fd569",
   "metadata": {},
   "outputs": [],
   "source": [
    "\"\"\"Library of common functions used in deep learning neural networks.\n",
    "\"\"\"\n",
    "#YOU PROBABLY WILL NOT USE THESE.\n",
    "\n",
    "def random_crop_input_and_output_images(\n",
    "    input_img: tf.Tensor,\n",
    "    output_img: tf.Tensor,\n",
    "    sample_size: int,\n",
    "    num_in_channels: int,\n",
    "    num_out_channels: int,\n",
    ") -> Tuple[tf.Tensor, tf.Tensor]:\n",
    "  \"\"\"Randomly axis-align crop input and output image tensors.\n",
    "\n",
    "  Args:\n",
    "    input_img: tensor with dimensions HWC.\n",
    "    output_img: tensor with dimensions HWC.\n",
    "    sample_size: side length (square) to crop to.\n",
    "    num_in_channels: number of channels in input_img.\n",
    "    num_out_channels: number of channels in output_img.\n",
    "  Returns:\n",
    "    input_img: tensor with dimensions HWC.\n",
    "    output_img: tensor with dimensions HWC.\n",
    "  \"\"\"\n",
    "  combined = tf.concat([input_img, output_img], axis=2)\n",
    "  combined = tf.image.random_crop(\n",
    "      combined,\n",
    "      [sample_size, sample_size, num_in_channels + num_out_channels])\n",
    "  input_img = combined[:, :, 0:num_in_channels]\n",
    "  output_img = combined[:, :, -num_out_channels:]\n",
    "  return input_img, output_img\n",
    "\n",
    "\n",
    "def center_crop_input_and_output_images(\n",
    "    input_img: tf.Tensor,\n",
    "    output_img: tf.Tensor,\n",
    "    sample_size: int,\n",
    ") -> Tuple[tf.Tensor, tf.Tensor]:\n",
    "  \"\"\"Center crops input and output image tensors.\n",
    "\n",
    "  Args:\n",
    "    input_img: tensor with dimensions HWC.\n",
    "    output_img: tensor with dimensions HWC.\n",
    "    sample_size: side length (square) to crop to.\n",
    "  Returns:\n",
    "    input_img: tensor with dimensions HWC.\n",
    "    output_img: tensor with dimensions HWC.\n",
    "  \"\"\"\n",
    "  central_fraction = sample_size / input_img.shape[0]\n",
    "  input_img = tf.image.central_cropral_crop(input_img, central_fraction)\n",
    "  output_img = tf.image.central_crop(output_img, central_fraction)\n",
    "  return input_img, output_img"
   ]
  },
  {
   "cell_type": "code",
   "execution_count": 23,
   "id": "ef51d18f-5cab-459a-9328-45baba36872f",
   "metadata": {},
   "outputs": [],
   "source": [
    "\"\"\"Dataset reader for Earth Engine data.\"\"\"\n",
    "\n",
    "def _get_base_key(key: Text) -> Text:\n",
    "  \"\"\"Extracts the base key from the provided key.\n",
    "\n",
    "  Earth Engine exports TFRecords containing each data variable with its\n",
    "  corresponding variable name. In the case of time sequences, the name of the\n",
    "  data variable is of the form 'variable_1', 'variable_2', ..., 'variable_n',\n",
    "  where 'variable' is the name of the variable, and n the number of elements\n",
    "  in the time sequence. Extracting the base key ensures that each step of the\n",
    "  time sequence goes through the same normalization steps.\n",
    "  The base key obeys the following naming pattern: '([a-zA-Z]+)'\n",
    "  For instance, for an input key 'variable_1', this function returns 'variable'.\n",
    "  For an input key 'variable', this function simply returns 'variable'.\n",
    "\n",
    "  Args:\n",
    "    key: Input key.\n",
    "\n",
    "  Returns:\n",
    "    The corresponding base key.\n",
    "\n",
    "  Raises:\n",
    "    ValueError when `key` does not match the expected pattern.\n",
    "  \"\"\"\n",
    "  match = re.match(r'([a-zA-Z]+)', key)\n",
    "  if match:\n",
    "    return match.group(1)\n",
    "  raise ValueError(\n",
    "      'The provided key does not match the expected pattern: {}'.format(key))\n",
    "\n",
    "\n",
    "def _clip_and_rescale(inputs: tf.Tensor, key: Text) -> tf.Tensor:\n",
    "  \"\"\"Clips and rescales inputs with the stats corresponding to `key`.\n",
    "\n",
    "  Args:\n",
    "    inputs: Inputs to clip and rescale.\n",
    "    key: Key describing the inputs.\n",
    "\n",
    "  Returns:\n",
    "    Clipped and rescaled input.\n",
    "\n",
    "  Raises:\n",
    "    ValueError if there are no data statistics available for `key`.\n",
    "  \"\"\"\n",
    "  base_key = _get_base_key(key)\n",
    "  if base_key not in DATA_STATS:\n",
    "    raise ValueError(\n",
    "        'No data statistics available for the requested key: {}.'.format(key))\n",
    "  min_val, max_val, _, _ = DATA_STATS[base_key]\n",
    "  inputs = tf.clip_by_value(inputs, min_val, max_val)\n",
    "  return tf.math.divide_no_nan((inputs - min_val), (max_val - min_val))\n",
    "\n",
    "\n",
    "def _clip_and_normalize(inputs: tf.Tensor, key: Text) -> tf.Tensor:\n",
    "  \"\"\"Clips and normalizes inputs with the stats corresponding to `key`.\n",
    "\n",
    "  Args:\n",
    "    inputs: Inputs to clip and normalize.\n",
    "    key: Key describing the inputs.\n",
    "\n",
    "  Returns:\n",
    "    Clipped and normalized input.\n",
    "\n",
    "  Raises:\n",
    "    ValueError if there are no data statistics available for `key`.\n",
    "  \"\"\"\n",
    "  base_key = _get_base_key(key)\n",
    "  if base_key not in DATA_STATS:\n",
    "    raise ValueError(\n",
    "        'No data statistics available for the requested key: {}.'.format(key))\n",
    "  min_val, max_val, mean, std = DATA_STATS[base_key]\n",
    "  inputs = tf.clip_by_value(inputs, min_val, max_val)\n",
    "  inputs = inputs - mean\n",
    "  return tf.math.divide_no_nan(inputs, std)\n",
    "\n",
    "def _get_features_dict(\n",
    "    sample_size: int,\n",
    "    features: List[Text],\n",
    ") -> Dict[Text, tf.io.FixedLenFeature]:\n",
    "  \"\"\"Creates a features dictionary for TensorFlow IO.\n",
    "\n",
    "  Args:\n",
    "    sample_size: Size of the input tiles (square).\n",
    "    features: List of feature names.\n",
    "\n",
    "  Returns:\n",
    "    A features dictionary for TensorFlow IO.\n",
    "  \"\"\"\n",
    "  sample_shape = [sample_size, sample_size]\n",
    "  features = set(features)\n",
    "  columns = [\n",
    "      tf.io.FixedLenFeature(shape=sample_shape, dtype=tf.float32)\n",
    "      for _ in features\n",
    "  ]\n",
    "  return dict(zip(features, columns))\n",
    "\n",
    "\n",
    "def _parse_fn(\n",
    "    example_proto: tf.train.Example, data_size: int, sample_size: int,\n",
    "    num_in_channels: int, clip_and_normalize: bool,\n",
    "    clip_and_rescale: bool, random_crop: bool, center_crop: bool,\n",
    ") -> Tuple[tf.Tensor, tf.Tensor]:\n",
    "  \"\"\"Reads a serialized example.\n",
    "\n",
    "  Args:\n",
    "    example_proto: A TensorFlow example protobuf.\n",
    "    data_size: Size of tiles (square) as read from input files.\n",
    "    sample_size: Size the tiles (square) when input into the model.\n",
    "    num_in_channels: Number of input channels.\n",
    "    clip_and_normalize: True if the data should be clipped and normalized.\n",
    "    clip_and_rescale: True if the data should be clipped and rescaled.\n",
    "    random_crop: True if the data should be randomly cropped.\n",
    "    center_crop: True if the data should be cropped in the center.\n",
    "\n",
    "  Returns:\n",
    "    (input_img, output_img) tuple of inputs and outputs to the ML model.\n",
    "  \"\"\"\n",
    "  if (random_crop and center_crop):\n",
    "    raise ValueError('Cannot have both random_crop and center_crop be True')\n",
    "  input_features, output_features = INPUT_FEATURES, OUTPUT_FEATURES\n",
    "  feature_names = input_features + output_features\n",
    "  features_dict = _get_features_dict(data_size, feature_names)\n",
    "  features = tf.io.parse_single_example(example_proto, features_dict)\n",
    "\n",
    "  if clip_and_normalize:\n",
    "    inputs_list = [\n",
    "        _clip_and_normalize(features.get(key), key) for key in input_features\n",
    "    ]\n",
    "  elif clip_and_rescale:\n",
    "    inputs_list = [\n",
    "        _clip_and_rescale(features.get(key), key) for key in input_features\n",
    "    ]\n",
    "  else:\n",
    "    inputs_list = [features.get(key) for key in input_features]\n",
    "  \n",
    "  inputs_stacked = tf.stack(inputs_list, axis=0)\n",
    "  input_img = tf.transpose(inputs_stacked, [1, 2, 0])\n",
    "\n",
    "  outputs_list = [features.get(key) for key in output_features]\n",
    "  assert outputs_list, 'outputs_list should not be empty'\n",
    "  outputs_stacked = tf.stack(outputs_list, axis=0)\n",
    "\n",
    "  outputs_stacked_shape = outputs_stacked.get_shape().as_list()\n",
    "  assert len(outputs_stacked.shape) == 3, ('outputs_stacked should be rank 3'\n",
    "                                            'but dimensions of outputs_stacked'\n",
    "                                            f' are {outputs_stacked_shape}')\n",
    "  output_img = tf.transpose(outputs_stacked, [1, 2, 0])\n",
    "\n",
    "  if random_crop:\n",
    "    input_img, output_img = random_crop_input_and_output_images(\n",
    "        input_img, output_img, sample_size, num_in_channels, 1)\n",
    "  if center_crop:\n",
    "    input_img, output_img = center_crop_input_and_output_images(\n",
    "        input_img, output_img, sample_size)\n",
    "  return input_img, output_img\n",
    "\n",
    "def get_dataset(data_size: int, sample_size: int,\n",
    "                batch_size: int, num_in_channels: int, compression_type: Text,\n",
    "                clip_and_normalize: bool, clip_and_rescale: bool,\n",
    "                random_crop: bool, center_crop: bool) -> tf.data.Dataset:\n",
    "  \"\"\"Gets the dataset from the file pattern.\n",
    "\n",
    "  Args:\n",
    "    file_pattern: Input file pattern.\n",
    "    data_size: Size of tiles (square) as read from input files.\n",
    "    sample_size: Size the tiles (square) when input into the model.\n",
    "    batch_size: Batch size.\n",
    "    num_in_channels: Number of input channels.\n",
    "    compression_type: Type of compression used for the input files.\n",
    "    clip_and_normalize: True if the data should be clipped and normalized, False\n",
    "      otherwise.\n",
    "    clip_and_rescale: True if the data should be clipped and rescaled, False\n",
    "      otherwise.\n",
    "    random_crop: True if the data should be randomly cropped.\n",
    "    center_crop: True if the data shoulde be cropped in the center.\n",
    "\n",
    "  Returns:\n",
    "    A TensorFlow dataset loaded from the input file pattern, with features\n",
    "    described in the constants, and with the shapes determined from the input\n",
    "    parameters to this function.\n",
    "  \"\"\"\n",
    "  if (clip_and_normalize and clip_and_rescale):\n",
    "    raise ValueError('Cannot have both normalize and rescale.')\n",
    "  dataset = tf.data.TFRecordDataset(list_files, compression_type=compression_type)\n",
    "  dataset = dataset.interleave(\n",
    "      lambda x: tf.data.TFRecordDataset(x, compression_type=compression_type),\n",
    "      num_parallel_calls=tf.data.experimental.AUTOTUNE)\n",
    "  dataset = dataset.prefetch(buffer_size=tf.data.experimental.AUTOTUNE)\n",
    "  dataset = dataset.map(\n",
    "      lambda x: _parse_fn(  # pylint: disable=g-long-lambda\n",
    "          x, data_size, sample_size, num_in_channels, clip_and_normalize,\n",
    "          clip_and_rescale, random_crop, center_crop),\n",
    "      num_parallel_calls=tf.data.experimental.AUTOTUNE)\n",
    "  dataset = dataset.batch(batch_size)\n",
    "  dataset = dataset.prefetch(buffer_size=tf.data.experimental.AUTOTUNE)\n",
    "  return dataset"
   ]
  },
  {
   "cell_type": "code",
   "execution_count": 36,
   "id": "66e4546b",
   "metadata": {},
   "outputs": [
    {
     "data": {
      "text/plain": [
       "<PrefetchDataset element_spec=(TensorSpec(shape=(None, 32, 32, 12), dtype=tf.float32, name=None), TensorSpec(shape=(None, 32, 32, 1), dtype=tf.float32, name=None))>"
      ]
     },
     "execution_count": 36,
     "metadata": {},
     "output_type": "execute_result"
    }
   ],
   "source": [
    "dataset = tf.data.TFRecordDataset(list_files, compression_type=None)\n",
    "dataset = dataset.interleave(lambda x: tf.data.TFRecordDataset(x, compression_type=None), num_parallel_calls = tf.data.experimental.AUTOTUNE)\n",
    "dataset = dataset.prefetch(buffer_size = tf.data.experimental.AUTOTUNE)\n",
    "dataset = dataset.map(lambda x: _parse_fn(x, 64, side_length, 12, False, False, True, False))\n",
    "dataset = dataset.batch(100)\n",
    "dataset = dataset.prefetch(buffer_size = tf.data.experimental.AUTOTUNE)\n",
    "dataset"
   ]
  },
  {
   "cell_type": "code",
   "execution_count": 24,
   "id": "72412188-7737-40b7-9341-0d50d116c9ad",
   "metadata": {},
   "outputs": [
    {
     "ename": "TypeError",
     "evalue": "Can't instantiate abstract class DatasetV2 with abstract methods _inputs, element_spec",
     "output_type": "error",
     "traceback": [
      "\u001b[1;31m---------------------------------------------------------------------------\u001b[0m",
      "\u001b[1;31mTypeError\u001b[0m                                 Traceback (most recent call last)",
      "\u001b[1;32m<ipython-input-24-d4d6cce58eb9>\u001b[0m in \u001b[0;36m<module>\u001b[1;34m\u001b[0m\n\u001b[0;32m      2\u001b[0m \u001b[0mnum_obs\u001b[0m \u001b[1;33m=\u001b[0m \u001b[1;36m100\u001b[0m \u001b[1;31m#batch size\u001b[0m\u001b[1;33m\u001b[0m\u001b[1;33m\u001b[0m\u001b[0m\n\u001b[0;32m      3\u001b[0m \u001b[1;33m\u001b[0m\u001b[0m\n\u001b[1;32m----> 4\u001b[1;33m dataset = get_dataset(\n\u001b[0m\u001b[0;32m      5\u001b[0m       \u001b[0mdata_size\u001b[0m\u001b[1;33m=\u001b[0m\u001b[1;36m64\u001b[0m\u001b[1;33m,\u001b[0m\u001b[1;33m\u001b[0m\u001b[1;33m\u001b[0m\u001b[0m\n\u001b[0;32m      6\u001b[0m       \u001b[0msample_size\u001b[0m\u001b[1;33m=\u001b[0m\u001b[0mside_length\u001b[0m\u001b[1;33m,\u001b[0m\u001b[1;33m\u001b[0m\u001b[1;33m\u001b[0m\u001b[0m\n",
      "\u001b[1;32m<ipython-input-23-b9e3787c6e98>\u001b[0m in \u001b[0;36mget_dataset\u001b[1;34m(data_size, sample_size, batch_size, num_in_channels, compression_type, clip_and_normalize, clip_and_rescale, random_crop, center_crop)\u001b[0m\n\u001b[0;32m    182\u001b[0m   \u001b[1;32mif\u001b[0m \u001b[1;33m(\u001b[0m\u001b[0mclip_and_normalize\u001b[0m \u001b[1;32mand\u001b[0m \u001b[0mclip_and_rescale\u001b[0m\u001b[1;33m)\u001b[0m\u001b[1;33m:\u001b[0m\u001b[1;33m\u001b[0m\u001b[1;33m\u001b[0m\u001b[0m\n\u001b[0;32m    183\u001b[0m     \u001b[1;32mraise\u001b[0m \u001b[0mValueError\u001b[0m\u001b[1;33m(\u001b[0m\u001b[1;34m'Cannot have both normalize and rescale.'\u001b[0m\u001b[1;33m)\u001b[0m\u001b[1;33m\u001b[0m\u001b[1;33m\u001b[0m\u001b[0m\n\u001b[1;32m--> 184\u001b[1;33m   \u001b[0mdataset\u001b[0m \u001b[1;33m=\u001b[0m \u001b[0mtf\u001b[0m\u001b[1;33m.\u001b[0m\u001b[0mdata\u001b[0m\u001b[1;33m.\u001b[0m\u001b[0mDataset\u001b[0m\u001b[1;33m(\u001b[0m\u001b[1;33m[\u001b[0m\u001b[1;34m'next_day_wildfire_spread_train_00.tfrecord'\u001b[0m\u001b[1;33m,\u001b[0m\u001b[1;34m'next_day_wildfire_spread_train_01.tfrecord'\u001b[0m\u001b[1;33m,\u001b[0m\u001b[1;34m'next_day_wildfire_spread_train_02.tfrecord'\u001b[0m\u001b[1;33m,\u001b[0m\u001b[1;34m'next_day_wildfire_spread_train_04.tfrecord'\u001b[0m\u001b[1;33m,\u001b[0m\u001b[1;34m'next_day_wildfire_spread_train_05.tfrecord'\u001b[0m\u001b[1;33m,\u001b[0m\u001b[1;34m'next_day_wildfire_spread_train_06.tfrecord'\u001b[0m\u001b[1;33m,\u001b[0m\u001b[1;34m'next_day_wildfire_spread_train_07.tfrecord'\u001b[0m\u001b[1;33m,\u001b[0m\u001b[1;34m'next_day_wildfire_spread_train_08.tfrecord'\u001b[0m\u001b[1;33m,\u001b[0m\u001b[1;34m'next_day_wildfire_spread_train_09.tfrecord'\u001b[0m\u001b[1;33m,\u001b[0m\u001b[1;34m'next_day_wildfire_spread_train_10.tfrecord'\u001b[0m\u001b[1;33m,\u001b[0m\u001b[1;34m'next_day_wildfire_spread_train_11.tfrecord'\u001b[0m\u001b[1;33m,\u001b[0m\u001b[1;34m'next_day_wildfire_spread_train_12.tfrecord'\u001b[0m\u001b[1;33m,\u001b[0m\u001b[1;34m'next_day_wildfire_spread_train_13.tfrecord'\u001b[0m\u001b[1;33m,\u001b[0m\u001b[1;34m'next_day_wildfire_spread_train_14.tfrecord'\u001b[0m\u001b[1;33m]\u001b[0m\u001b[1;33m)\u001b[0m\u001b[1;33m\u001b[0m\u001b[1;33m\u001b[0m\u001b[0m\n\u001b[0m\u001b[0;32m    185\u001b[0m   dataset = dataset.interleave(\n\u001b[0;32m    186\u001b[0m       \u001b[1;32mlambda\u001b[0m \u001b[0mx\u001b[0m\u001b[1;33m:\u001b[0m \u001b[0mtf\u001b[0m\u001b[1;33m.\u001b[0m\u001b[0mdata\u001b[0m\u001b[1;33m.\u001b[0m\u001b[0mTFRecordDataset\u001b[0m\u001b[1;33m(\u001b[0m\u001b[0mx\u001b[0m\u001b[1;33m,\u001b[0m \u001b[0mcompression_type\u001b[0m\u001b[1;33m=\u001b[0m\u001b[0mcompression_type\u001b[0m\u001b[1;33m)\u001b[0m\u001b[1;33m,\u001b[0m\u001b[1;33m\u001b[0m\u001b[1;33m\u001b[0m\u001b[0m\n",
      "\u001b[1;31mTypeError\u001b[0m: Can't instantiate abstract class DatasetV2 with abstract methods _inputs, element_spec"
     ]
    }
   ],
   "source": [
    "side_length = 32 #length of the side of the square you select (so, e.g. pick 64 if you don't want any random cropping)\n",
    "num_obs = 100 #batch size\n",
    "\n",
    "dataset = get_dataset(\n",
    "      data_size=64,\n",
    "      sample_size=side_length,\n",
    "      batch_size=num_obs,\n",
    "      num_in_channels=12,\n",
    "      compression_type=None,\n",
    "      clip_and_normalize=False,\n",
    "      clip_and_rescale=False,\n",
    "      random_crop=True,\n",
    "      center_crop=False)"
   ]
  },
  {
   "cell_type": "code",
   "execution_count": 37,
   "id": "9fbdc06b-0ff8-4c58-b094-b551866b24a8",
   "metadata": {},
   "outputs": [
    {
     "ename": "UnicodeDecodeError",
     "evalue": "'utf-8' codec can't decode byte 0xad in position 44: invalid start byte",
     "output_type": "error",
     "traceback": [
      "\u001b[1;31m---------------------------------------------------------------------------\u001b[0m",
      "\u001b[1;31mUnicodeDecodeError\u001b[0m                        Traceback (most recent call last)",
      "\u001b[1;32m<ipython-input-37-32b71f6e91a4>\u001b[0m in \u001b[0;36m<module>\u001b[1;34m\u001b[0m\n\u001b[1;32m----> 1\u001b[1;33m \u001b[0minputs\u001b[0m\u001b[1;33m,\u001b[0m \u001b[0mlabels\u001b[0m \u001b[1;33m=\u001b[0m \u001b[0mnext\u001b[0m\u001b[1;33m(\u001b[0m\u001b[0miter\u001b[0m\u001b[1;33m(\u001b[0m\u001b[0mdataset\u001b[0m\u001b[1;33m)\u001b[0m\u001b[1;33m)\u001b[0m\u001b[1;33m\u001b[0m\u001b[1;33m\u001b[0m\u001b[0m\n\u001b[0m\u001b[0;32m      2\u001b[0m \u001b[1;31m#Are there two assignments happening on every iteration because dataset stores inputs with labels?\u001b[0m\u001b[1;33m\u001b[0m\u001b[1;33m\u001b[0m\u001b[1;33m\u001b[0m\u001b[0m\n\u001b[0;32m      3\u001b[0m \u001b[0mprint\u001b[0m\u001b[1;33m(\u001b[0m\u001b[0minputs\u001b[0m\u001b[1;33m.\u001b[0m\u001b[0mshape\u001b[0m\u001b[1;33m)\u001b[0m \u001b[1;31m#(100, 32, 32, 12)\u001b[0m\u001b[1;33m\u001b[0m\u001b[1;33m\u001b[0m\u001b[0m\n\u001b[0;32m      4\u001b[0m \u001b[1;31m#print(labels.shape) #(100, 32, 32, 1)\u001b[0m\u001b[1;33m\u001b[0m\u001b[1;33m\u001b[0m\u001b[1;33m\u001b[0m\u001b[0m\n\u001b[0;32m      5\u001b[0m \u001b[1;31m#print(inputs[0, :, :, 11]) #Trying to grab the previous fire mask. (Apparent) success!\u001b[0m\u001b[1;33m\u001b[0m\u001b[1;33m\u001b[0m\u001b[1;33m\u001b[0m\u001b[0m\n",
      "\u001b[1;32m~\\anaconda3\\lib\\site-packages\\tensorflow\\python\\data\\ops\\iterator_ops.py\u001b[0m in \u001b[0;36m__next__\u001b[1;34m(self)\u001b[0m\n\u001b[0;32m    834\u001b[0m   \u001b[1;32mdef\u001b[0m \u001b[0m__next__\u001b[0m\u001b[1;33m(\u001b[0m\u001b[0mself\u001b[0m\u001b[1;33m)\u001b[0m\u001b[1;33m:\u001b[0m\u001b[1;33m\u001b[0m\u001b[1;33m\u001b[0m\u001b[0m\n\u001b[0;32m    835\u001b[0m     \u001b[1;32mtry\u001b[0m\u001b[1;33m:\u001b[0m\u001b[1;33m\u001b[0m\u001b[1;33m\u001b[0m\u001b[0m\n\u001b[1;32m--> 836\u001b[1;33m       \u001b[1;32mreturn\u001b[0m \u001b[0mself\u001b[0m\u001b[1;33m.\u001b[0m\u001b[0m_next_internal\u001b[0m\u001b[1;33m(\u001b[0m\u001b[1;33m)\u001b[0m\u001b[1;33m\u001b[0m\u001b[1;33m\u001b[0m\u001b[0m\n\u001b[0m\u001b[0;32m    837\u001b[0m     \u001b[1;32mexcept\u001b[0m \u001b[0merrors\u001b[0m\u001b[1;33m.\u001b[0m\u001b[0mOutOfRangeError\u001b[0m\u001b[1;33m:\u001b[0m\u001b[1;33m\u001b[0m\u001b[1;33m\u001b[0m\u001b[0m\n\u001b[0;32m    838\u001b[0m       \u001b[1;32mraise\u001b[0m \u001b[0mStopIteration\u001b[0m\u001b[1;33m\u001b[0m\u001b[1;33m\u001b[0m\u001b[0m\n",
      "\u001b[1;32m~\\anaconda3\\lib\\site-packages\\tensorflow\\python\\data\\ops\\iterator_ops.py\u001b[0m in \u001b[0;36m_next_internal\u001b[1;34m(self)\u001b[0m\n\u001b[0;32m    817\u001b[0m     \u001b[1;31m# to communicate that there is no more data to iterate over.\u001b[0m\u001b[1;33m\u001b[0m\u001b[1;33m\u001b[0m\u001b[1;33m\u001b[0m\u001b[0m\n\u001b[0;32m    818\u001b[0m     \u001b[1;32mwith\u001b[0m \u001b[0mcontext\u001b[0m\u001b[1;33m.\u001b[0m\u001b[0mexecution_mode\u001b[0m\u001b[1;33m(\u001b[0m\u001b[0mcontext\u001b[0m\u001b[1;33m.\u001b[0m\u001b[0mSYNC\u001b[0m\u001b[1;33m)\u001b[0m\u001b[1;33m:\u001b[0m\u001b[1;33m\u001b[0m\u001b[1;33m\u001b[0m\u001b[0m\n\u001b[1;32m--> 819\u001b[1;33m       ret = gen_dataset_ops.iterator_get_next(\n\u001b[0m\u001b[0;32m    820\u001b[0m           \u001b[0mself\u001b[0m\u001b[1;33m.\u001b[0m\u001b[0m_iterator_resource\u001b[0m\u001b[1;33m,\u001b[0m\u001b[1;33m\u001b[0m\u001b[1;33m\u001b[0m\u001b[0m\n\u001b[0;32m    821\u001b[0m           \u001b[0moutput_types\u001b[0m\u001b[1;33m=\u001b[0m\u001b[0mself\u001b[0m\u001b[1;33m.\u001b[0m\u001b[0m_flat_output_types\u001b[0m\u001b[1;33m,\u001b[0m\u001b[1;33m\u001b[0m\u001b[1;33m\u001b[0m\u001b[0m\n",
      "\u001b[1;32m~\\anaconda3\\lib\\site-packages\\tensorflow\\python\\ops\\gen_dataset_ops.py\u001b[0m in \u001b[0;36miterator_get_next\u001b[1;34m(iterator, output_types, output_shapes, name)\u001b[0m\n\u001b[0;32m   2915\u001b[0m   \u001b[1;32mif\u001b[0m \u001b[0mtld\u001b[0m\u001b[1;33m.\u001b[0m\u001b[0mis_eager\u001b[0m\u001b[1;33m:\u001b[0m\u001b[1;33m\u001b[0m\u001b[1;33m\u001b[0m\u001b[0m\n\u001b[0;32m   2916\u001b[0m     \u001b[1;32mtry\u001b[0m\u001b[1;33m:\u001b[0m\u001b[1;33m\u001b[0m\u001b[1;33m\u001b[0m\u001b[0m\n\u001b[1;32m-> 2917\u001b[1;33m       _result = pywrap_tfe.TFE_Py_FastPathExecute(\n\u001b[0m\u001b[0;32m   2918\u001b[0m         \u001b[0m_ctx\u001b[0m\u001b[1;33m,\u001b[0m \u001b[1;34m\"IteratorGetNext\"\u001b[0m\u001b[1;33m,\u001b[0m \u001b[0mname\u001b[0m\u001b[1;33m,\u001b[0m \u001b[0miterator\u001b[0m\u001b[1;33m,\u001b[0m \u001b[1;34m\"output_types\"\u001b[0m\u001b[1;33m,\u001b[0m \u001b[0moutput_types\u001b[0m\u001b[1;33m,\u001b[0m\u001b[1;33m\u001b[0m\u001b[1;33m\u001b[0m\u001b[0m\n\u001b[0;32m   2919\u001b[0m         \"output_shapes\", output_shapes)\n",
      "\u001b[1;31mUnicodeDecodeError\u001b[0m: 'utf-8' codec can't decode byte 0xad in position 44: invalid start byte"
     ]
    }
   ],
   "source": [
    "inputs, labels = next(iter(dataset))\n",
    "#Are there two assignments happening on every iteration because dataset stores inputs with labels?\n",
    "print(inputs.shape) #(100, 32, 32, 12)\n",
    "#print(labels.shape) #(100, 32, 32, 1)\n",
    "#print(inputs[0, :, :, 11]) #Trying to grab the previous fire mask. (Apparent) success!\n",
    "#print(labels[0,:, :, 0]) #Ok, I think the labels are the fire mask. (That also accords with standard usage of the term.)"
   ]
  },
  {
   "cell_type": "code",
   "execution_count": null,
   "id": "2bd9825e-008b-4855-a249-ccb8af0c10b1",
   "metadata": {},
   "outputs": [],
   "source": []
  },
  {
   "cell_type": "code",
   "execution_count": null,
   "id": "8e299a19-b4c2-40e2-b58d-42ff2d3f7034",
   "metadata": {},
   "outputs": [],
   "source": []
  }
 ],
 "metadata": {
  "kernelspec": {
   "display_name": "Python 3",
   "language": "python",
   "name": "python3"
  },
  "language_info": {
   "codemirror_mode": {
    "name": "ipython",
    "version": 3
   },
   "file_extension": ".py",
   "mimetype": "text/x-python",
   "name": "python",
   "nbconvert_exporter": "python",
   "pygments_lexer": "ipython3",
   "version": "3.8.8"
  }
 },
 "nbformat": 4,
 "nbformat_minor": 5
}
