{
 "cells": [
  {
   "cell_type": "code",
   "execution_count": 1,
   "id": "a1a2d304-2c63-4620-991a-15ce595f20fc",
   "metadata": {},
   "outputs": [
    {
     "name": "stderr",
     "output_type": "stream",
     "text": [
      "/Users/rishabh/opt/anaconda3/lib/python3.8/site-packages/keras/backend.py:450: UserWarning: `tf.keras.backend.set_learning_phase` is deprecated and will be removed after 2020-10-11. To update it, simply pass a True/False value to the `training` argument of the `__call__` method of your layer or model.\n",
      "  warnings.warn('`tf.keras.backend.set_learning_phase` is deprecated and '\n"
     ]
    }
   ],
   "source": [
    "# !pip install tensorflow\n",
    "# !pip install keras\n",
    "import numpy as np\n",
    "from keras import layers\n",
    "from keras.layers import Input, Add, Dense, Activation, ZeroPadding2D, BatchNormalization, Dropout, concatenate, Flatten, UpSampling2D,Conv2D, AveragePooling2D, MaxPooling2D, GlobalMaxPooling2D\n",
    "from keras.models import Model, load_model\n",
    "from keras.preprocessing import image\n",
    "from keras.utils import layer_utils\n",
    "from keras.utils.data_utils import get_file\n",
    "from keras.applications.imagenet_utils import preprocess_input\n",
    "from IPython.display import SVG\n",
    "from keras.utils.vis_utils import model_to_dot\n",
    "from keras.initializers import glorot_uniform\n",
    "import scipy.misc\n",
    "import matplotlib.pyplot as plt\n",
    "from matplotlib.pyplot import imshow\n",
    "import copy, pickle\n",
    "from tensorflow.keras.optimizers import Adam\n",
    "%matplotlib inline\n",
    "\n",
    "import keras.backend as K\n",
    "K.set_image_data_format('channels_last')\n",
    "K.set_learning_phase(1)\n"
   ]
  },
  {
   "cell_type": "code",
   "execution_count": 2,
   "id": "3b6095ea",
   "metadata": {},
   "outputs": [
    {
     "data": {
      "text/plain": [
       "[0, 1, 2, 3, 4, 5, 6, 7, 8, 9, 10, 11]"
      ]
     },
     "execution_count": 2,
     "metadata": {},
     "output_type": "execute_result"
    }
   ],
   "source": [
    "INPUT_FEATURES = ['elevation', 'th', 'vs',  'tmmn', 'tmmx', 'sph', \n",
    "                  'pr', 'pdsi', 'NDVI', 'population', 'erc', 'PrevFireMask']\n",
    "which_features = ['PrevFireMask', 'NDVI', 'elevation', 'tmmx', 'tmmn']\n",
    "which_features = INPUT_FEATURES.copy()\n",
    "which_idx = [INPUT_FEATURES.index(f) for f in which_features]\n",
    "which_idx\n"
   ]
  },
  {
   "cell_type": "code",
   "execution_count": 3,
   "id": "b86a6ee6-13eb-411f-b9d4-43af9d823e14",
   "metadata": {},
   "outputs": [],
   "source": [
    "X_train = np.load('X_train_final.npy')\n",
    "Y_train = np.load('Y_train_final.npy')\n",
    "\n",
    "X_test = np.load('X_val.npy')\n",
    "Y_test = np.load('Y_val.npy')\n",
    "\n",
    "X_test_metrics = np.load('X_test.npy')\n",
    "Y_test_metrics = np.load('Y_test.npy')\n",
    "\n",
    "\n"
   ]
  },
  {
   "cell_type": "code",
   "execution_count": 4,
   "id": "1d755c6b",
   "metadata": {},
   "outputs": [],
   "source": [
    "# X_train = X_train[:,:,:,which_idx]"
   ]
  },
  {
   "cell_type": "code",
   "execution_count": 5,
   "id": "2601ac94",
   "metadata": {},
   "outputs": [
    {
     "data": {
      "text/plain": [
       "(10836, 32, 32, 12)"
      ]
     },
     "execution_count": 5,
     "metadata": {},
     "output_type": "execute_result"
    }
   ],
   "source": [
    "X_train.shape"
   ]
  },
  {
   "cell_type": "code",
   "execution_count": 6,
   "id": "262bd9ea",
   "metadata": {},
   "outputs": [
    {
     "data": {
      "text/plain": [
       "(10836, 32, 32)"
      ]
     },
     "execution_count": 6,
     "metadata": {},
     "output_type": "execute_result"
    }
   ],
   "source": [
    "Y_train.shape"
   ]
  },
  {
   "cell_type": "code",
   "execution_count": 7,
   "id": "b4c3f6d9",
   "metadata": {},
   "outputs": [
    {
     "data": {
      "text/plain": [
       "(10836, 32, 32, 12)"
      ]
     },
     "execution_count": 7,
     "metadata": {},
     "output_type": "execute_result"
    }
   ],
   "source": [
    "[m, n_h, n_w, n_c] = X_train.shape\n",
    "m, n_h, n_w, n_c\n",
    "\n"
   ]
  },
  {
   "cell_type": "code",
   "execution_count": 8,
   "id": "c6543cc8-fa43-4c37-8d26-a8a27b7e1fd9",
   "metadata": {},
   "outputs": [],
   "source": [
    "\n",
    "# X_test = X_test[:,:,:,which_idx]\n"
   ]
  },
  {
   "cell_type": "code",
   "execution_count": 9,
   "id": "9a06eabc",
   "metadata": {},
   "outputs": [
    {
     "data": {
      "text/plain": [
       "(1404, 32, 32, 12)"
      ]
     },
     "execution_count": 9,
     "metadata": {},
     "output_type": "execute_result"
    }
   ],
   "source": [
    "X_test.shape\n",
    "\n"
   ]
  },
  {
   "cell_type": "code",
   "execution_count": 10,
   "id": "792243c0",
   "metadata": {},
   "outputs": [
    {
     "data": {
      "text/plain": [
       "(1362, 32, 32, 12)"
      ]
     },
     "execution_count": 10,
     "metadata": {},
     "output_type": "execute_result"
    }
   ],
   "source": [
    "X_test_metrics.shape"
   ]
  },
  {
   "cell_type": "code",
   "execution_count": 11,
   "id": "e918e082-6179-45ca-add3-aafea39bfa1e",
   "metadata": {},
   "outputs": [],
   "source": [
    "Y_train = np.where(Y_train == -1, 0, Y_train)\n",
    "Y_test = np.where(Y_test == -1, 0, Y_test)"
   ]
  },
  {
   "cell_type": "code",
   "execution_count": 17,
   "id": "d30899e8-98a9-46c7-b848-af324aa46450",
   "metadata": {},
   "outputs": [],
   "source": [
    "def dice_coef(y_true, y_pred, smooth=1):\n",
    "    y_true_f = K.flatten(y_true)\n",
    "    y_pred_f = K.flatten(y_pred)\n",
    "    intersection = K.sum(y_true_f * y_pred_f)\n",
    "    return (2. * intersection + smooth) / (K.sum(y_true_f) + K.sum(y_pred_f) + smooth)"
   ]
  },
  {
   "cell_type": "code",
   "execution_count": 13,
   "id": "69c5b4b5",
   "metadata": {},
   "outputs": [],
   "source": [
    "epochs = 64\n",
    "learning_rate = 0.001\n",
    "dropout_rate = 0.1\n",
    "batch_size = 64"
   ]
  },
  {
   "cell_type": "code",
   "execution_count": 27,
   "id": "d286ce87",
   "metadata": {},
   "outputs": [],
   "source": [
    "def model_arch(learning_rate, dropout_rate, batch_size, epochs = 32):\n",
    "\n",
    "    # Contraction Path\n",
    "    s = 1\n",
    "\n",
    "    X = Input((n_h, n_w, n_c))\n",
    "\n",
    "    c1 = Conv2D(16, (3,3), strides =(s,s), padding='same', activation = 'relu', kernel_initializer = 'he_normal')(X)\n",
    "    c1 = Dropout(dropout_rate)(c1)\n",
    "    c1 = Conv2D(16, (3,3), strides =(s,s), padding = 'same', activation='relu', kernel_initializer = 'he_normal')(c1)\n",
    "    c1 = BatchNormalization(axis=3)(c1)\n",
    "    c1 = Activation('relu')(c1)\n",
    "    p1 = MaxPooling2D((2,2))(c1)\n",
    "\n",
    "    c2 = Conv2D(32, (3,3), strides =(s,s), padding='same', activation = 'relu', kernel_initializer = 'he_normal')(p1)\n",
    "    c2 = Dropout(dropout_rate)(c2)\n",
    "    c2 = Conv2D(32, (3,3), strides =(s,s), padding = 'same', kernel_initializer = 'he_normal')(c2)\n",
    "    c2 = BatchNormalization(axis=3)(c2)\n",
    "    c2 = Activation('relu')(c2)\n",
    "    p2 = MaxPooling2D((2,2))(c2)\n",
    "\n",
    "    c3 = Conv2D(64, (3,3), strides =(s,s), padding='same', activation = 'relu', kernel_initializer = 'he_normal')(p2)\n",
    "    c3 = Dropout(dropout_rate)(c3)\n",
    "    c3 = Conv2D(64, (3,3), strides =(s,s), padding = 'same', kernel_initializer = 'he_normal')(c3)\n",
    "    c3 = BatchNormalization(axis=3)(c3)\n",
    "    c3 = Activation('relu')(c3)\n",
    "    p3 = MaxPooling2D((2,2))(c3)\n",
    "\n",
    "    c4 = Conv2D(128, (3,3), activation='relu', padding='same', kernel_initializer='he_normal')(p3)\n",
    "    c4 = Dropout(dropout_rate)(c4)\n",
    "    c4 = Conv2D(128, (3,3), padding='same', kernel_initializer='he_normal')(c4)\n",
    "    c4 = BatchNormalization(axis=3)(c4)\n",
    "    c4 = Activation('relu')(c4)  \n",
    "\n",
    "     # Expansion path\n",
    "    u5 = UpSampling2D(size = (2,2))(c4)\n",
    "    u5 = concatenate([u5, c3])\n",
    "    c5 = Conv2D(64, (3,3), activation='relu', kernel_initializer='he_normal', padding='same')(u5)\n",
    "    c5 = Dropout(dropout_rate)(c5)\n",
    "    c5 = Conv2D(64, (3,3), kernel_initializer='he_normal', padding='same')(c5)\n",
    "    c5 = BatchNormalization(axis=3)(c5)\n",
    "    c5 = Activation('relu')(c5)                                                                        \n",
    "\n",
    "    u6 = UpSampling2D(size = (2,2))(c5)\n",
    "    u6 = concatenate([u6, c2])\n",
    "    c6 = Conv2D(32, (3,3), activation='relu', kernel_initializer='he_normal', padding='same')(u6)\n",
    "    c6 = Dropout(dropout_rate)(c6)\n",
    "    c6 = Conv2D(32, (3,3), kernel_initializer='he_normal', padding='same')(c6)\n",
    "    c6 = BatchNormalization(axis=3)(c6)\n",
    "    c6 = Activation('relu')(c6) \n",
    "\n",
    "    u7 = UpSampling2D(size = (2,2))(c6)\n",
    "    u7 = concatenate([u7, c1])\n",
    "    c7 = Conv2D(16, (3,3), activation='relu', kernel_initializer='he_normal', padding='same')(u7)\n",
    "    c7 = Dropout(dropout_rate)(c7)\n",
    "    c7 = Conv2D(16, (3,3), kernel_initializer='he_normal', padding='same')(c7)\n",
    "    c7 = BatchNormalization(axis=3)(c7)\n",
    "    c7 = Activation('relu')(c7)                                                                        \n",
    "\n",
    "    outputs = Conv2D(1, (1,1), activation = 'sigmoid')(c7)\n",
    "\n",
    "    model = Model(inputs = X, outputs = outputs)\n",
    "    \n",
    "    decay_rate = learning_rate/epochs\n",
    "    opt = Adam(learning_rate=learning_rate, beta_1=0.9, beta_2=0.999, epsilon=1e-8, decay=decay_rate, amsgrad=False)\n",
    "\n",
    "    model.compile(optimizer=opt, loss='binary_crossentropy', metrics=[dice_coef])\n",
    "\n",
    "    history = model.fit(X_train, Y_train, epochs = epochs, batch_size = batch_size)\n",
    "    loss, dice_coef2 = model.evaluate(X_test, Y_test)\n",
    "    \n",
    "    loss_test, dice_coef2_test = model.evaluate(X_test_metrics, Y_test_metrics)\n",
    "    \n",
    "    return history, loss, dice_coef2, loss_test, dice_coef2_test\n",
    "\n"
   ]
  },
  {
   "cell_type": "code",
   "execution_count": 28,
   "id": "f205fcc4",
   "metadata": {},
   "outputs": [],
   "source": [
    "results = {}\n",
    "\n"
   ]
  },
  {
   "cell_type": "code",
   "execution_count": null,
   "id": "a3dcb1d1",
   "metadata": {},
   "outputs": [
    {
     "name": "stdout",
     "output_type": "stream",
     "text": [
      "Epoch 1/32\n",
      "339/339 [==============================] - 70s 187ms/step - loss: 0.1670 - dice_coef: 0.0745\n",
      "Epoch 2/32\n",
      "339/339 [==============================] - 65s 192ms/step - loss: 0.0915 - dice_coef: 0.1611\n",
      "Epoch 3/32\n",
      "339/339 [==============================] - 62s 182ms/step - loss: 0.0865 - dice_coef: 0.1793\n",
      "Epoch 4/32\n",
      "339/339 [==============================] - 65s 193ms/step - loss: 0.0846 - dice_coef: 0.1881\n",
      "Epoch 5/32\n",
      "339/339 [==============================] - 69s 205ms/step - loss: 0.0835 - dice_coef: 0.1930\n",
      "Epoch 6/32\n",
      "339/339 [==============================] - 66s 194ms/step - loss: 0.0828 - dice_coef: 0.1964\n",
      "Epoch 7/32\n",
      "339/339 [==============================] - 70s 206ms/step - loss: 0.0822 - dice_coef: 0.2006\n",
      "Epoch 8/32\n",
      "339/339 [==============================] - 73s 216ms/step - loss: 0.0816 - dice_coef: 0.2015\n",
      "Epoch 9/32\n",
      "339/339 [==============================] - 72s 212ms/step - loss: 0.0811 - dice_coef: 0.2052\n",
      "Epoch 10/32\n",
      "339/339 [==============================] - 77s 228ms/step - loss: 0.0804 - dice_coef: 0.2084\n",
      "Epoch 11/32\n",
      "339/339 [==============================] - 67s 197ms/step - loss: 0.0800 - dice_coef: 0.2115\n",
      "Epoch 12/32\n",
      "339/339 [==============================] - 67s 198ms/step - loss: 0.0797 - dice_coef: 0.2118\n",
      "Epoch 13/32\n",
      "339/339 [==============================] - 81s 240ms/step - loss: 0.0790 - dice_coef: 0.2161\n",
      "Epoch 14/32\n",
      "339/339 [==============================] - 74s 219ms/step - loss: 0.0786 - dice_coef: 0.2184\n",
      "Epoch 15/32\n",
      "339/339 [==============================] - 68s 201ms/step - loss: 0.0779 - dice_coef: 0.2223\n",
      "Epoch 16/32\n",
      "339/339 [==============================] - 77s 225ms/step - loss: 0.0777 - dice_coef: 0.2255\n",
      "Epoch 17/32\n",
      "339/339 [==============================] - 68s 200ms/step - loss: 0.0772 - dice_coef: 0.2265\n",
      "Epoch 18/32\n",
      "339/339 [==============================] - 67s 196ms/step - loss: 0.0771 - dice_coef: 0.2285\n",
      "Epoch 19/32\n",
      "339/339 [==============================] - 64s 190ms/step - loss: 0.0765 - dice_coef: 0.2340\n",
      "Epoch 20/32\n",
      "339/339 [==============================] - 67s 198ms/step - loss: 0.0760 - dice_coef: 0.2343\n",
      "Epoch 21/32\n",
      "339/339 [==============================] - 65s 193ms/step - loss: 0.0757 - dice_coef: 0.2381\n",
      "Epoch 22/32\n",
      "339/339 [==============================] - 65s 192ms/step - loss: 0.0753 - dice_coef: 0.2413\n",
      "Epoch 23/32\n",
      "339/339 [==============================] - 66s 195ms/step - loss: 0.0753 - dice_coef: 0.2413\n",
      "Epoch 24/32\n",
      "339/339 [==============================] - 69s 204ms/step - loss: 0.0745 - dice_coef: 0.2467\n",
      "Epoch 25/32\n",
      "339/339 [==============================] - 70s 206ms/step - loss: 0.0742 - dice_coef: 0.2495\n",
      "Epoch 26/32\n",
      "339/339 [==============================] - 71s 210ms/step - loss: 0.0736 - dice_coef: 0.2527\n",
      "Epoch 27/32\n",
      "339/339 [==============================] - 78s 231ms/step - loss: 0.0736 - dice_coef: 0.2549\n",
      "Epoch 28/32\n",
      "339/339 [==============================] - 70s 206ms/step - loss: 0.0727 - dice_coef: 0.2595\n",
      "Epoch 29/32\n",
      "339/339 [==============================] - 68s 200ms/step - loss: 0.0723 - dice_coef: 0.2640\n",
      "Epoch 30/32\n",
      "339/339 [==============================] - 72s 212ms/step - loss: 0.0719 - dice_coef: 0.2662\n",
      "Epoch 31/32\n",
      "339/339 [==============================] - 69s 204ms/step - loss: 0.0714 - dice_coef: 0.2715\n",
      "Epoch 32/32\n",
      "339/339 [==============================] - 70s 207ms/step - loss: 0.0708 - dice_coef: 0.2762\n",
      "44/44 [==============================] - 2s 35ms/step - loss: 0.0881 - dice_coef: 0.1914\n",
      "43/43 [==============================] - 1s 28ms/step - loss: 0.1260 - dice_coef: 0.1483\n",
      "Epoch 1/32\n",
      "339/339 [==============================] - 70s 199ms/step - loss: 0.1357 - dice_coef: 0.1292\n",
      "Epoch 2/32\n",
      "339/339 [==============================] - 69s 203ms/step - loss: 0.0857 - dice_coef: 0.1811\n",
      "Epoch 3/32\n",
      "333/339 [============================>.] - ETA: 1s - loss: 0.0843 - dice_coef: 0.1859"
     ]
    }
   ],
   "source": [
    "\n",
    "for l, learning_rate in enumerate([0.001, 0.01, 0.05]):\n",
    "    for d, dropout_rate in enumerate([0.1]):\n",
    "        for b, batch_size in enumerate([32]):\n",
    "            temp = {}\n",
    "            history, loss, dice_coef2, loss_test, dice_coef2_test = model_arch(learning_rate, dropout_rate, batch_size, epochs = 32)\n",
    "            temp['history'] = history\n",
    "            temp['loss'] = loss\n",
    "            temp['dice_coef'] = dice_coef2\n",
    "            results['learning_'+str(learning_rate)+'_dropout_'+str(dropout_rate)+'_batch_size_'+str(batch_size)] = temp\n",
    "            del temp, history, loss, dice_coef2\n",
    "\n",
    "    "
   ]
  },
  {
   "cell_type": "code",
   "execution_count": null,
   "id": "816bb978",
   "metadata": {},
   "outputs": [],
   "source": [
    "\n",
    "for l, learning_rate in enumerate([0.001]):\n",
    "    for d, dropout_rate in enumerate([0.1]):\n",
    "        for b, batch_size in enumerate([16, 32, 64]):\n",
    "            temp = {}\n",
    "            history, loss, dice_coef2 = model_arch(learning_rate, dropout_rate, batch_size, epochs = 32)\n",
    "            temp['history'] = history\n",
    "            temp['loss'] = loss\n",
    "            temp['dice_coef'] = dice_coef2\n",
    "            results['learning_'+str(learning_rate)+'_dropout_'+str(dropout_rate)+'_batch_size_'+str(batch_size)] = temp\n",
    "            del temp, history, loss, dice_coef2\n",
    "\n",
    "    "
   ]
  },
  {
   "cell_type": "code",
   "execution_count": null,
   "id": "e3cd923b",
   "metadata": {},
   "outputs": [],
   "source": [
    "\n",
    "for l, learning_rate in enumerate([0.001]):\n",
    "    for d, dropout_rate in enumerate([0.05, 0.1, 0.2]):\n",
    "        for b, batch_size in enumerate([64]):\n",
    "            temp = {}\n",
    "            history, loss, dice_coef2 = model_arch(learning_rate, dropout_rate, batch_size, epochs = 32)\n",
    "            temp['history'] = history\n",
    "            temp['loss'] = loss\n",
    "            temp['dice_coef'] = dice_coef2\n",
    "            results['learning_'+str(learning_rate)+'_dropout_'+str(dropout_rate)+'_batch_size_'+str(batch_size)] = temp\n",
    "            del temp, history, loss, dice_coef2\n",
    "\n",
    "    "
   ]
  },
  {
   "cell_type": "code",
   "execution_count": null,
   "id": "61a6f080",
   "metadata": {},
   "outputs": [],
   "source": [
    "pickle.dump(results, open('results_alpha.pkl', 'wb'))\n",
    "\n"
   ]
  },
  {
   "cell_type": "code",
   "execution_count": null,
   "id": "9a7d9e64",
   "metadata": {},
   "outputs": [],
   "source": []
  },
  {
   "cell_type": "code",
   "execution_count": null,
   "id": "e2986e19-755a-4933-8835-0628b0e454ad",
   "metadata": {},
   "outputs": [],
   "source": [
    "print(history.history.keys())\n",
    "plt.figure(figsize=(12,6))\n",
    "plt.subplot(121)\n",
    "plt.plot(history.history['loss'])\n",
    "plt.xlabel('Epoch')\n",
    "plt.ylabel('Binary Crossentropy Loss')\n",
    "plt.title('Loss')\n",
    "plt.subplot(122)\n",
    "plt.plot(history.history['dice_coef'])\n",
    "plt.xlabel('Epoch')\n",
    "plt.ylabel('Dice Coefficient')\n",
    "plt.title('Dice Coefficient')\n",
    "plt.suptitle('Epochs = 64, Learning Rate = 0.01, Adam Optimizer')\n"
   ]
  },
  {
   "cell_type": "code",
   "execution_count": null,
   "id": "62055662-d83c-4a35-99b1-4a6a83b1abef",
   "metadata": {},
   "outputs": [],
   "source": [
    "x = X_test[1122,:,:,:]\n",
    "x = np.expand_dims(x, axis=0)\n",
    "y = model.predict(x)\n",
    "y = np.where(y>0.3, 1, 0)"
   ]
  },
  {
   "cell_type": "code",
   "execution_count": null,
   "id": "1d80978d-3cb7-4747-ab61-f18ea492a238",
   "metadata": {},
   "outputs": [],
   "source": [
    "def plot_examples(i):\n",
    "    x = X_test[i,:,:,:]\n",
    "    x = np.expand_dims(x, axis=0)\n",
    "    y = model.predict(x)\n",
    "    y = np.where(y>0.5, 1, 0)\n",
    "    plt.figure(figsize = (20,6))\n",
    "    plt.subplot(131)\n",
    "    plt.imshow(X_test[i,:,:,11])\n",
    "    plt.colorbar()\n",
    "    plt.subplot(132)\n",
    "    plt.imshow(Y_test[i,:,:])\n",
    "    plt.colorbar()\n",
    "    plt.subplot(133)\n",
    "    plt.imshow(y[0,:,:,0])\n",
    "    plt.colorbar()\n",
    "    plt.clim([0,1])"
   ]
  },
  {
   "cell_type": "code",
   "execution_count": null,
   "id": "e65ef651-a4d8-4fc5-b550-cc515d770d32",
   "metadata": {},
   "outputs": [],
   "source": [
    "plot_examples(399)"
   ]
  },
  {
   "cell_type": "code",
   "execution_count": null,
   "id": "9aa97dfa-749a-4eb6-b439-4be062330e6a",
   "metadata": {},
   "outputs": [],
   "source": [
    "Y_train = np.where(Y_train==-1, -1, 0)"
   ]
  },
  {
   "cell_type": "code",
   "execution_count": null,
   "id": "27401712-b99c-4ba0-b416-b98d3f7125bc",
   "metadata": {},
   "outputs": [],
   "source": [
    "np.where(Y_train==-1)"
   ]
  },
  {
   "cell_type": "code",
   "execution_count": null,
   "id": "8e31959f-eb22-493e-824b-0b2374606910",
   "metadata": {},
   "outputs": [],
   "source": []
  },
  {
   "cell_type": "code",
   "execution_count": null,
   "id": "b031ca3b-c0ff-41cd-8d05-7bb337acdd49",
   "metadata": {},
   "outputs": [],
   "source": []
  }
 ],
 "metadata": {
  "kernelspec": {
   "display_name": "Python 3",
   "language": "python",
   "name": "python3"
  },
  "language_info": {
   "codemirror_mode": {
    "name": "ipython",
    "version": 3
   },
   "file_extension": ".py",
   "mimetype": "text/x-python",
   "name": "python",
   "nbconvert_exporter": "python",
   "pygments_lexer": "ipython3",
   "version": "3.8.2"
  },
  "toc": {
   "base_numbering": 1,
   "nav_menu": {},
   "number_sections": true,
   "sideBar": true,
   "skip_h1_title": false,
   "title_cell": "Table of Contents",
   "title_sidebar": "Contents",
   "toc_cell": false,
   "toc_position": {},
   "toc_section_display": true,
   "toc_window_display": false
  }
 },
 "nbformat": 4,
 "nbformat_minor": 5
}
