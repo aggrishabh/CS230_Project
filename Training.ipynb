{
 "cells": [
  {
   "cell_type": "code",
   "execution_count": 1,
   "id": "9430f46e",
   "metadata": {},
   "outputs": [
    {
     "ename": "RuntimeError",
     "evalue": "module compiled against API version 0xe but this version of numpy is 0xd",
     "output_type": "error",
     "traceback": [
      "\u001b[0;31m---------------------------------------------------------------------------\u001b[0m",
      "\u001b[0;31mRuntimeError\u001b[0m                              Traceback (most recent call last)",
      "\u001b[0;31mRuntimeError\u001b[0m: module compiled against API version 0xe but this version of numpy is 0xd"
     ]
    },
    {
     "ename": "ImportError",
     "evalue": "initialization failed",
     "output_type": "error",
     "traceback": [
      "\u001b[0;31m---------------------------------------------------------------------------\u001b[0m",
      "\u001b[0;31mImportError\u001b[0m                               Traceback (most recent call last)",
      "\u001b[0;31mImportError\u001b[0m: numpy.core.multiarray failed to import",
      "\nThe above exception was the direct cause of the following exception:\n",
      "\u001b[0;31mSystemError\u001b[0m                               Traceback (most recent call last)",
      "\u001b[0;31mSystemError\u001b[0m: <built-in method __contains__ of dict object at 0x7fc1dcac7ac0> returned a result with an error set",
      "\nThe above exception was the direct cause of the following exception:\n",
      "\u001b[0;31mImportError\u001b[0m                               Traceback (most recent call last)",
      "\u001b[0;32m<ipython-input-1-946e10b83958>\u001b[0m in \u001b[0;36m<module>\u001b[0;34m\u001b[0m\n\u001b[1;32m      1\u001b[0m \u001b[0;32mimport\u001b[0m \u001b[0mnumpy\u001b[0m \u001b[0;32mas\u001b[0m \u001b[0mnp\u001b[0m\u001b[0;34m\u001b[0m\u001b[0;34m\u001b[0m\u001b[0m\n\u001b[0;32m----> 2\u001b[0;31m \u001b[0;32mfrom\u001b[0m \u001b[0mkeras\u001b[0m \u001b[0;32mimport\u001b[0m \u001b[0mlayers\u001b[0m\u001b[0;34m\u001b[0m\u001b[0;34m\u001b[0m\u001b[0m\n\u001b[0m\u001b[1;32m      3\u001b[0m \u001b[0;32mfrom\u001b[0m \u001b[0mkeras\u001b[0m\u001b[0;34m.\u001b[0m\u001b[0mlayers\u001b[0m \u001b[0;32mimport\u001b[0m \u001b[0mInput\u001b[0m\u001b[0;34m,\u001b[0m \u001b[0mAdd\u001b[0m\u001b[0;34m,\u001b[0m \u001b[0mDense\u001b[0m\u001b[0;34m,\u001b[0m \u001b[0mActivation\u001b[0m\u001b[0;34m,\u001b[0m \u001b[0mZeroPadding2D\u001b[0m\u001b[0;34m,\u001b[0m \u001b[0mBatchNormalization\u001b[0m\u001b[0;34m,\u001b[0m \u001b[0mDropout\u001b[0m\u001b[0;34m,\u001b[0m \u001b[0mFlatten\u001b[0m\u001b[0;34m,\u001b[0m \u001b[0mConv2D\u001b[0m\u001b[0;34m,\u001b[0m \u001b[0mAveragePooling2D\u001b[0m\u001b[0;34m,\u001b[0m \u001b[0mMaxPooling2D\u001b[0m\u001b[0;34m,\u001b[0m \u001b[0mGlobalMaxPooling2D\u001b[0m\u001b[0;34m\u001b[0m\u001b[0;34m\u001b[0m\u001b[0m\n\u001b[1;32m      4\u001b[0m \u001b[0;32mfrom\u001b[0m \u001b[0mkeras\u001b[0m\u001b[0;34m.\u001b[0m\u001b[0mmodels\u001b[0m \u001b[0;32mimport\u001b[0m \u001b[0mModel\u001b[0m\u001b[0;34m,\u001b[0m \u001b[0mload_model\u001b[0m\u001b[0;34m\u001b[0m\u001b[0;34m\u001b[0m\u001b[0m\n\u001b[1;32m      5\u001b[0m \u001b[0;32mfrom\u001b[0m \u001b[0mkeras\u001b[0m\u001b[0;34m.\u001b[0m\u001b[0mpreprocessing\u001b[0m \u001b[0;32mimport\u001b[0m \u001b[0mimage\u001b[0m\u001b[0;34m\u001b[0m\u001b[0;34m\u001b[0m\u001b[0m\n",
      "\u001b[0;32m~/opt/anaconda3/lib/python3.8/site-packages/keras/__init__.py\u001b[0m in \u001b[0;36m<module>\u001b[0;34m\u001b[0m\n\u001b[1;32m     19\u001b[0m \"\"\"\n\u001b[1;32m     20\u001b[0m \u001b[0;31m# pylint: disable=unused-import\u001b[0m\u001b[0;34m\u001b[0m\u001b[0;34m\u001b[0m\u001b[0;34m\u001b[0m\u001b[0m\n\u001b[0;32m---> 21\u001b[0;31m \u001b[0;32mfrom\u001b[0m \u001b[0mtensorflow\u001b[0m\u001b[0;34m.\u001b[0m\u001b[0mpython\u001b[0m \u001b[0;32mimport\u001b[0m \u001b[0mtf2\u001b[0m\u001b[0;34m\u001b[0m\u001b[0;34m\u001b[0m\u001b[0m\n\u001b[0m\u001b[1;32m     22\u001b[0m \u001b[0;32mfrom\u001b[0m \u001b[0mkeras\u001b[0m \u001b[0;32mimport\u001b[0m \u001b[0mdistribute\u001b[0m\u001b[0;34m\u001b[0m\u001b[0;34m\u001b[0m\u001b[0m\n\u001b[1;32m     23\u001b[0m \u001b[0;34m\u001b[0m\u001b[0m\n",
      "\u001b[0;32m~/opt/anaconda3/lib/python3.8/site-packages/tensorflow/__init__.py\u001b[0m in \u001b[0;36m<module>\u001b[0;34m\u001b[0m\n\u001b[1;32m     35\u001b[0m \u001b[0;32mimport\u001b[0m \u001b[0mtyping\u001b[0m \u001b[0;32mas\u001b[0m \u001b[0m_typing\u001b[0m\u001b[0;34m\u001b[0m\u001b[0;34m\u001b[0m\u001b[0m\n\u001b[1;32m     36\u001b[0m \u001b[0;34m\u001b[0m\u001b[0m\n\u001b[0;32m---> 37\u001b[0;31m \u001b[0;32mfrom\u001b[0m \u001b[0mtensorflow\u001b[0m\u001b[0;34m.\u001b[0m\u001b[0mpython\u001b[0m\u001b[0;34m.\u001b[0m\u001b[0mtools\u001b[0m \u001b[0;32mimport\u001b[0m \u001b[0mmodule_util\u001b[0m \u001b[0;32mas\u001b[0m \u001b[0m_module_util\u001b[0m\u001b[0;34m\u001b[0m\u001b[0;34m\u001b[0m\u001b[0m\n\u001b[0m\u001b[1;32m     38\u001b[0m \u001b[0;32mfrom\u001b[0m \u001b[0mtensorflow\u001b[0m\u001b[0;34m.\u001b[0m\u001b[0mpython\u001b[0m\u001b[0;34m.\u001b[0m\u001b[0mutil\u001b[0m\u001b[0;34m.\u001b[0m\u001b[0mlazy_loader\u001b[0m \u001b[0;32mimport\u001b[0m \u001b[0mLazyLoader\u001b[0m \u001b[0;32mas\u001b[0m \u001b[0m_LazyLoader\u001b[0m\u001b[0;34m\u001b[0m\u001b[0;34m\u001b[0m\u001b[0m\n\u001b[1;32m     39\u001b[0m \u001b[0;34m\u001b[0m\u001b[0m\n",
      "\u001b[0;32m~/opt/anaconda3/lib/python3.8/site-packages/tensorflow/python/__init__.py\u001b[0m in \u001b[0;36m<module>\u001b[0;34m\u001b[0m\n\u001b[1;32m     35\u001b[0m \u001b[0;34m\u001b[0m\u001b[0m\n\u001b[1;32m     36\u001b[0m \u001b[0;32mfrom\u001b[0m \u001b[0mtensorflow\u001b[0m\u001b[0;34m.\u001b[0m\u001b[0mpython\u001b[0m \u001b[0;32mimport\u001b[0m \u001b[0mpywrap_tensorflow\u001b[0m \u001b[0;32mas\u001b[0m \u001b[0m_pywrap_tensorflow\u001b[0m\u001b[0;34m\u001b[0m\u001b[0;34m\u001b[0m\u001b[0m\n\u001b[0;32m---> 37\u001b[0;31m \u001b[0;32mfrom\u001b[0m \u001b[0mtensorflow\u001b[0m\u001b[0;34m.\u001b[0m\u001b[0mpython\u001b[0m\u001b[0;34m.\u001b[0m\u001b[0meager\u001b[0m \u001b[0;32mimport\u001b[0m \u001b[0mcontext\u001b[0m\u001b[0;34m\u001b[0m\u001b[0;34m\u001b[0m\u001b[0m\n\u001b[0m\u001b[1;32m     38\u001b[0m \u001b[0;34m\u001b[0m\u001b[0m\n\u001b[1;32m     39\u001b[0m \u001b[0;31m# pylint: enable=wildcard-import\u001b[0m\u001b[0;34m\u001b[0m\u001b[0;34m\u001b[0m\u001b[0;34m\u001b[0m\u001b[0m\n",
      "\u001b[0;32m~/opt/anaconda3/lib/python3.8/site-packages/tensorflow/python/eager/context.py\u001b[0m in \u001b[0;36m<module>\u001b[0;34m\u001b[0m\n\u001b[1;32m     33\u001b[0m \u001b[0;32mfrom\u001b[0m \u001b[0mtensorflow\u001b[0m\u001b[0;34m.\u001b[0m\u001b[0mpython\u001b[0m \u001b[0;32mimport\u001b[0m \u001b[0mpywrap_tfe\u001b[0m\u001b[0;34m\u001b[0m\u001b[0;34m\u001b[0m\u001b[0m\n\u001b[1;32m     34\u001b[0m \u001b[0;32mfrom\u001b[0m \u001b[0mtensorflow\u001b[0m\u001b[0;34m.\u001b[0m\u001b[0mpython\u001b[0m \u001b[0;32mimport\u001b[0m \u001b[0mtf2\u001b[0m\u001b[0;34m\u001b[0m\u001b[0;34m\u001b[0m\u001b[0m\n\u001b[0;32m---> 35\u001b[0;31m \u001b[0;32mfrom\u001b[0m \u001b[0mtensorflow\u001b[0m\u001b[0;34m.\u001b[0m\u001b[0mpython\u001b[0m\u001b[0;34m.\u001b[0m\u001b[0mclient\u001b[0m \u001b[0;32mimport\u001b[0m \u001b[0mpywrap_tf_session\u001b[0m\u001b[0;34m\u001b[0m\u001b[0;34m\u001b[0m\u001b[0m\n\u001b[0m\u001b[1;32m     36\u001b[0m \u001b[0;32mfrom\u001b[0m \u001b[0mtensorflow\u001b[0m\u001b[0;34m.\u001b[0m\u001b[0mpython\u001b[0m\u001b[0;34m.\u001b[0m\u001b[0meager\u001b[0m \u001b[0;32mimport\u001b[0m \u001b[0mexecutor\u001b[0m\u001b[0;34m\u001b[0m\u001b[0;34m\u001b[0m\u001b[0m\n\u001b[1;32m     37\u001b[0m \u001b[0;32mfrom\u001b[0m \u001b[0mtensorflow\u001b[0m\u001b[0;34m.\u001b[0m\u001b[0mpython\u001b[0m\u001b[0;34m.\u001b[0m\u001b[0meager\u001b[0m \u001b[0;32mimport\u001b[0m \u001b[0mmonitoring\u001b[0m\u001b[0;34m\u001b[0m\u001b[0;34m\u001b[0m\u001b[0m\n",
      "\u001b[0;32m~/opt/anaconda3/lib/python3.8/site-packages/tensorflow/python/client/pywrap_tf_session.py\u001b[0m in \u001b[0;36m<module>\u001b[0;34m\u001b[0m\n\u001b[1;32m     17\u001b[0m \u001b[0;31m# pylint: disable=invalid-import-order,g-bad-import-order, wildcard-import, unused-import\u001b[0m\u001b[0;34m\u001b[0m\u001b[0;34m\u001b[0m\u001b[0;34m\u001b[0m\u001b[0m\n\u001b[1;32m     18\u001b[0m \u001b[0;32mfrom\u001b[0m \u001b[0mtensorflow\u001b[0m\u001b[0;34m.\u001b[0m\u001b[0mpython\u001b[0m \u001b[0;32mimport\u001b[0m \u001b[0mpywrap_tensorflow\u001b[0m\u001b[0;34m\u001b[0m\u001b[0;34m\u001b[0m\u001b[0m\n\u001b[0;32m---> 19\u001b[0;31m \u001b[0;32mfrom\u001b[0m \u001b[0mtensorflow\u001b[0m\u001b[0;34m.\u001b[0m\u001b[0mpython\u001b[0m\u001b[0;34m.\u001b[0m\u001b[0mclient\u001b[0m\u001b[0;34m.\u001b[0m\u001b[0m_pywrap_tf_session\u001b[0m \u001b[0;32mimport\u001b[0m \u001b[0;34m*\u001b[0m\u001b[0;34m\u001b[0m\u001b[0;34m\u001b[0m\u001b[0m\n\u001b[0m\u001b[1;32m     20\u001b[0m \u001b[0;32mfrom\u001b[0m \u001b[0mtensorflow\u001b[0m\u001b[0;34m.\u001b[0m\u001b[0mpython\u001b[0m\u001b[0;34m.\u001b[0m\u001b[0mclient\u001b[0m\u001b[0;34m.\u001b[0m\u001b[0m_pywrap_tf_session\u001b[0m \u001b[0;32mimport\u001b[0m \u001b[0m_TF_SetTarget\u001b[0m\u001b[0;34m\u001b[0m\u001b[0;34m\u001b[0m\u001b[0m\n\u001b[1;32m     21\u001b[0m \u001b[0;32mfrom\u001b[0m \u001b[0mtensorflow\u001b[0m\u001b[0;34m.\u001b[0m\u001b[0mpython\u001b[0m\u001b[0;34m.\u001b[0m\u001b[0mclient\u001b[0m\u001b[0;34m.\u001b[0m\u001b[0m_pywrap_tf_session\u001b[0m \u001b[0;32mimport\u001b[0m \u001b[0m_TF_SetConfig\u001b[0m\u001b[0;34m\u001b[0m\u001b[0;34m\u001b[0m\u001b[0m\n",
      "\u001b[0;31mImportError\u001b[0m: initialization failed"
     ]
    }
   ],
   "source": [
    "import numpy as np\n",
    "from keras import layers\n",
    "from keras.layers import Input, Add, Dense, Activation, ZeroPadding2D, BatchNormalization, Dropout, Flatten, Conv2D, AveragePooling2D, MaxPooling2D, GlobalMaxPooling2D\n",
    "from keras.models import Model, load_model\n",
    "from keras.preprocessing import image\n",
    "from keras.utils import layer_utils\n",
    "from keras.utils.data_utils import get_file\n",
    "from keras.applications.imagenet_utils import preprocess_input\n",
    "from IPython.display import SVG\n",
    "from keras.utils.vis_utils import model_to_dot\n",
    "from keras.initializers import glorot_uniform\n",
    "import scipy.misc\n",
    "from matplotlib.pyplot import imshow\n",
    "%matplotlib inline\n",
    "\n",
    "import keras.backend as K\n",
    "K.set_image_data_format('channels_last')\n",
    "K.set_learning_phase(1)"
   ]
  },
  {
   "cell_type": "code",
   "execution_count": 166,
   "id": "371e1568",
   "metadata": {},
   "outputs": [],
   "source": [
    "Y_train = np.load('Y_train.npy')\n",
    "X_train = np.load('X_train.npy')\n",
    "Y_test = np.load('Y_test.npy')\n",
    "X_test = np.load('X_test.npy')"
   ]
  },
  {
   "cell_type": "code",
   "execution_count": 167,
   "id": "645b48fe",
   "metadata": {},
   "outputs": [],
   "source": [
    "import matplotlib.pyplot as plt"
   ]
  },
  {
   "cell_type": "code",
   "execution_count": 168,
   "id": "bc170314",
   "metadata": {},
   "outputs": [
    {
     "data": {
      "text/plain": [
       "(12566, 32, 32)"
      ]
     },
     "execution_count": 168,
     "metadata": {},
     "output_type": "execute_result"
    }
   ],
   "source": [
    "Y_train.shape"
   ]
  },
  {
   "cell_type": "code",
   "execution_count": 169,
   "id": "8f66d1d9",
   "metadata": {},
   "outputs": [],
   "source": [
    "m = X_train.shape[0]\n",
    "m_test = X_test.shape[0]\n",
    "n_h = X_train.shape[1]\n",
    "n_w = X_train.shape[2]\n",
    "n_features = X_train.shape[3]"
   ]
  },
  {
   "cell_type": "code",
   "execution_count": 200,
   "id": "c3be6ab0",
   "metadata": {},
   "outputs": [],
   "source": [
    "def dice_coef(y_true, y_pred, smooth=1):\n",
    "    y_true_f = K.flatten(y_true)\n",
    "    y_pred_f = K.flatten(y_pred)\n",
    "    intersection = K.sum(y_true_f * y_pred_f)\n",
    "    return (2. * intersection + smooth) / (K.sum(y_true_f) + K.sum(y_pred_f) + smooth)"
   ]
  },
  {
   "cell_type": "code",
   "execution_count": 201,
   "id": "6cfea095",
   "metadata": {},
   "outputs": [],
   "source": [
    "def res_block_maxpool(X,stage,s=1,filters=16):\n",
    "    \n",
    "    # name defining basis as used in ResNet assignment\n",
    "    conv_name_base = 'conv' + str(stage) +  '_branch'\n",
    "    pool_name_base = 'pool' + str(stage) +  '_branch'\n",
    "    \n",
    "    # Input value for shortcut layer\n",
    "    X_shortcut = X\n",
    "    \n",
    "    \n",
    "    # Main Path\n",
    "    # Component 1 of main path\n",
    "    X = Activation('relu')(X)\n",
    "    X = Dropout(0.1)(X)\n",
    "    \n",
    "    # Component 2 of main path\n",
    "    X = MaxPooling2D(pool_size = (2,2), padding='same', strides = (1,1), name = pool_name_base + '2a')(X)\n",
    "    X = Activation('relu')(X)\n",
    "    X = Dropout(0.1)(X)\n",
    "    \n",
    "    # Component 3 of main path\n",
    "    X = Conv2D(filters, kernel_size=(3,3), padding='same', strides = (1,1), name = conv_name_base + '2a')(X)\n",
    "    X = Dropout(0.1)(X)\n",
    "    \n",
    "    # Shortcut Path\n",
    "    X_shortcut = Conv2D(filters, kernel_size=(3,3), padding='same', strides = (1,1), name = conv_name_base + '1')(X_shortcut)\n",
    "    X_shortcut = Dropout(0.1)(X_shortcut)\n",
    "    \n",
    "    # Adding main path and activation\n",
    "    X = Add()([X, X_shortcut])\n",
    "    \n",
    "    return X\n",
    "    "
   ]
  },
  {
   "cell_type": "code",
   "execution_count": null,
   "id": "0ff2415b",
   "metadata": {},
   "outputs": [],
   "source": [
    "def res_block_conv(X,stage,s=1,filters=32):\n",
    "    \n",
    "    # name defining basis as used in ResNet assignment\n",
    "    conv_name_base = 'conv' + str(stage) + '_branch'\n",
    "    pool_name_base = 'pool' + str(stage) + '_branch'\n",
    "    \n",
    "    # Input value for shortcut layer\n",
    "    X_shortcut = X\n",
    "    \n",
    "    \n",
    "    # Main Path\n",
    "    # Component 1 of main path\n",
    "    X = Activation('relu')(X)\n",
    "    X = Dropout(0.1)(X)\n",
    "    \n",
    "    # Component 2 of main path\n",
    "    X = Conv2D(filters, kernel_size = (2,2), padding='same', strides = (s,s), name = pool_name_base + '2a')(X)\n",
    "    X = Activation('relu')(X)\n",
    "    X = Dropout(0.1)(X)\n",
    "    \n",
    "    # Component 3 of main path\n",
    "    X = Conv2D(filters, kernel_size=(3,3), padding='same', strides = (s,s), name = conv_name_base + '2a')(X)\n",
    "    X = Dropout(0.1)(X)\n",
    "    \n",
    "    # Shortcut Path\n",
    "    X_shortcut = Conv2D(filters, kernel_size=(3,3),  padding='same', strides = (s,s), name = conv_name_base + '1')(X_shortcut)\n",
    "    X_shortcut = Dropout(0.1)(X_shortcut)\n",
    "    \n",
    "    # Adding main path and activation\n",
    "    X = Add()([X, X_shortcut])\n",
    "    \n",
    "    return X"
   ]
  },
  {
   "cell_type": "code",
   "execution_count": 243,
   "id": "a81b40e9",
   "metadata": {},
   "outputs": [],
   "source": [
    "def ResNet(input_shape = (32,32,12), classes=2, filters =16):\n",
    "    \n",
    "    # Input tensor\n",
    "    X_input = Input(input_shape)\n",
    "    \n",
    "    X = X_input\n",
    "    \n",
    "    \n",
    "    # Stage 1\n",
    "    X = Conv2D(filters, kernel_size=(3,3),padding='same', strides=(1,1), name='conv1')(X)\n",
    "    X = BatchNormalization(axis=3, name='bn_conv1')(X)\n",
    "    X = Activation('relu')(X)\n",
    "    X = Dropout(0.1)(X)\n",
    "    X = Conv2D(filters, kernel_size=(3,3),padding='same', strides=(1,1))(X)\n",
    "    \n",
    "    # Stage 2\n",
    "    X = res_block_maxpool(X, stage=2, filters=16, s=1)\n",
    "    \n",
    "    # Stage 3\n",
    "    X = res_block_maxpool(X, stage=3, filters=16, s=1)\n",
    "    \n",
    "    #Stage 4\n",
    "    X = res_block_conv(X, stage=4, filters=32, s=1)\n",
    "    \n",
    "    # Stage 5\n",
    "    X = res_block_conv(X, stage=5, filters=32, s=1)\n",
    "    \n",
    "    # Stage 6\n",
    "    X = Conv2D(filters, kernel_size=(3,3),padding='same', strides=(1,1), name='conv6')(X)\n",
    "    X = Activation('relu')(X)\n",
    "    \n",
    "    # Averagepool\n",
    "    X = AveragePooling2D(pool_size = (2,2),padding='same', strides = (1,1), name = 'AveragePool2a')(X)\n",
    "    X = Conv2D(filters = 1, padding = 'same', kernel_size = (3,3), strides = (1,1), name = 'conv_last')(X)\n",
    "    X = Activation('sigmoid')(X)\n",
    "        \n",
    "    # Create Model\n",
    "    model = Model(inputs = X_input, outputs = X, name = 'ResNet')\n",
    "    \n",
    "    return model"
   ]
  },
  {
   "cell_type": "code",
   "execution_count": 244,
   "id": "9c493786",
   "metadata": {},
   "outputs": [],
   "source": [
    "model = ResNet(input_shape = (32,32,12), classes = 2)"
   ]
  },
  {
   "cell_type": "code",
   "execution_count": 245,
   "id": "82ad58b4",
   "metadata": {},
   "outputs": [
    {
     "data": {
      "text/plain": [
       "keras.engine.functional.Functional"
      ]
     },
     "execution_count": 245,
     "metadata": {},
     "output_type": "execute_result"
    }
   ],
   "source": [
    "type(model)"
   ]
  },
  {
   "cell_type": "code",
   "execution_count": 246,
   "id": "1cb7aad3",
   "metadata": {},
   "outputs": [],
   "source": [
    "model.compile(optimizer = 'adam', loss = 'binary_crossentropy', metrics=[dice_coef])"
   ]
  },
  {
   "cell_type": "code",
   "execution_count": 247,
   "id": "8a5329a9",
   "metadata": {},
   "outputs": [
    {
     "name": "stdout",
     "output_type": "stream",
     "text": [
      "Epoch 1/10\n",
      "393/393 [==============================] - 210s 529ms/step - loss: 0.4006 - dice_coef: 0.0016\n",
      "Epoch 2/10\n",
      "393/393 [==============================] - 198s 503ms/step - loss: 0.1702 - dice_coef: 0.0014\n",
      "Epoch 3/10\n",
      "393/393 [==============================] - 207s 526ms/step - loss: 0.1702 - dice_coef: -7.9712e-04\n",
      "Epoch 4/10\n",
      "393/393 [==============================] - 205s 521ms/step - loss: 0.1701 - dice_coef: 60105.5156\n",
      "Epoch 5/10\n",
      "393/393 [==============================] - 204s 520ms/step - loss: 0.1701 - dice_coef: -3.2192e-05\n",
      "Epoch 6/10\n",
      "393/393 [==============================] - 198s 503ms/step - loss: 0.1701 - dice_coef: 0.0012\n",
      "Epoch 7/10\n",
      "393/393 [==============================] - 202s 513ms/step - loss: 0.1701 - dice_coef: 0.0012\n",
      "Epoch 8/10\n",
      "393/393 [==============================] - 202s 514ms/step - loss: 0.1701 - dice_coef: 3.5689e-04\n",
      "Epoch 9/10\n",
      "393/393 [==============================] - 215s 546ms/step - loss: 0.1701 - dice_coef: 0.0016\n",
      "Epoch 10/10\n",
      "393/393 [==============================] - 210s 534ms/step - loss: 0.1701 - dice_coef: 8.9575e-04\n"
     ]
    },
    {
     "data": {
      "text/plain": [
       "<keras.callbacks.History at 0x245699d75b0>"
      ]
     },
     "execution_count": 247,
     "metadata": {},
     "output_type": "execute_result"
    }
   ],
   "source": [
    "model.fit(X_train, Y_train, epochs = 10, batch_size = 32)"
   ]
  },
  {
   "cell_type": "code",
   "execution_count": 248,
   "id": "2113128a",
   "metadata": {},
   "outputs": [
    {
     "name": "stdout",
     "output_type": "stream",
     "text": [
      "44/44 [==============================] - 3s 64ms/step - loss: 0.0250 - dice_coef: -0.0048\n"
     ]
    }
   ],
   "source": [
    "preds = model.evaluate(X_test, Y_test)"
   ]
  },
  {
   "cell_type": "code",
   "execution_count": 249,
   "id": "40399220",
   "metadata": {},
   "outputs": [
    {
     "name": "stdout",
     "output_type": "stream",
     "text": [
      "Model: \"ResNet\"\n",
      "__________________________________________________________________________________________________\n",
      " Layer (type)                   Output Shape         Param #     Connected to                     \n",
      "==================================================================================================\n",
      " input_27 (InputLayer)          [(None, 32, 32, 12)  0           []                               \n",
      "                                ]                                                                 \n",
      "                                                                                                  \n",
      " conv1 (Conv2D)                 (None, 32, 32, 16)   1744        ['input_27[0][0]']               \n",
      "                                                                                                  \n",
      " bn_conv1 (BatchNormalization)  (None, 32, 32, 16)   64          ['conv1[0][0]']                  \n",
      "                                                                                                  \n",
      " activation_191 (Activation)    (None, 32, 32, 16)   0           ['bn_conv1[0][0]']               \n",
      "                                                                                                  \n",
      " dropout_314 (Dropout)          (None, 32, 32, 16)   0           ['activation_191[0][0]']         \n",
      "                                                                                                  \n",
      " conv2d_22 (Conv2D)             (None, 32, 32, 16)   2320        ['dropout_314[0][0]']            \n",
      "                                                                                                  \n",
      " activation_192 (Activation)    (None, 32, 32, 16)   0           ['conv2d_22[0][0]']              \n",
      "                                                                                                  \n",
      " dropout_315 (Dropout)          (None, 32, 32, 16)   0           ['activation_192[0][0]']         \n",
      "                                                                                                  \n",
      " pool2_branch2a (MaxPooling2D)  (None, 32, 32, 16)   0           ['dropout_315[0][0]']            \n",
      "                                                                                                  \n",
      " activation_193 (Activation)    (None, 32, 32, 16)   0           ['pool2_branch2a[0][0]']         \n",
      "                                                                                                  \n",
      " dropout_316 (Dropout)          (None, 32, 32, 16)   0           ['activation_193[0][0]']         \n",
      "                                                                                                  \n",
      " conv2_branch2a (Conv2D)        (None, 32, 32, 16)   2320        ['dropout_316[0][0]']            \n",
      "                                                                                                  \n",
      " conv2_branch1 (Conv2D)         (None, 32, 32, 16)   2320        ['conv2d_22[0][0]']              \n",
      "                                                                                                  \n",
      " dropout_317 (Dropout)          (None, 32, 32, 16)   0           ['conv2_branch2a[0][0]']         \n",
      "                                                                                                  \n",
      " dropout_318 (Dropout)          (None, 32, 32, 16)   0           ['conv2_branch1[0][0]']          \n",
      "                                                                                                  \n",
      " add_73 (Add)                   (None, 32, 32, 16)   0           ['dropout_317[0][0]',            \n",
      "                                                                  'dropout_318[0][0]']            \n",
      "                                                                                                  \n",
      " activation_194 (Activation)    (None, 32, 32, 16)   0           ['add_73[0][0]']                 \n",
      "                                                                                                  \n",
      " dropout_319 (Dropout)          (None, 32, 32, 16)   0           ['activation_194[0][0]']         \n",
      "                                                                                                  \n",
      " pool3_branch2a (MaxPooling2D)  (None, 32, 32, 16)   0           ['dropout_319[0][0]']            \n",
      "                                                                                                  \n",
      " activation_195 (Activation)    (None, 32, 32, 16)   0           ['pool3_branch2a[0][0]']         \n",
      "                                                                                                  \n",
      " dropout_320 (Dropout)          (None, 32, 32, 16)   0           ['activation_195[0][0]']         \n",
      "                                                                                                  \n",
      " conv3_branch2a (Conv2D)        (None, 32, 32, 16)   2320        ['dropout_320[0][0]']            \n",
      "                                                                                                  \n",
      " conv3_branch1 (Conv2D)         (None, 32, 32, 16)   2320        ['add_73[0][0]']                 \n",
      "                                                                                                  \n",
      " dropout_321 (Dropout)          (None, 32, 32, 16)   0           ['conv3_branch2a[0][0]']         \n",
      "                                                                                                  \n",
      " dropout_322 (Dropout)          (None, 32, 32, 16)   0           ['conv3_branch1[0][0]']          \n",
      "                                                                                                  \n",
      " add_74 (Add)                   (None, 32, 32, 16)   0           ['dropout_321[0][0]',            \n",
      "                                                                  'dropout_322[0][0]']            \n",
      "                                                                                                  \n",
      " activation_196 (Activation)    (None, 32, 32, 16)   0           ['add_74[0][0]']                 \n",
      "                                                                                                  \n",
      " dropout_323 (Dropout)          (None, 32, 32, 16)   0           ['activation_196[0][0]']         \n",
      "                                                                                                  \n",
      " pool4_branch2a (Conv2D)        (None, 32, 32, 32)   2080        ['dropout_323[0][0]']            \n",
      "                                                                                                  \n",
      " activation_197 (Activation)    (None, 32, 32, 32)   0           ['pool4_branch2a[0][0]']         \n",
      "                                                                                                  \n",
      " dropout_324 (Dropout)          (None, 32, 32, 32)   0           ['activation_197[0][0]']         \n",
      "                                                                                                  \n",
      " conv4_branch2a (Conv2D)        (None, 32, 32, 32)   9248        ['dropout_324[0][0]']            \n",
      "                                                                                                  \n",
      " conv4_branch1 (Conv2D)         (None, 32, 32, 32)   4640        ['add_74[0][0]']                 \n",
      "                                                                                                  \n",
      " dropout_325 (Dropout)          (None, 32, 32, 32)   0           ['conv4_branch2a[0][0]']         \n",
      "                                                                                                  \n",
      " dropout_326 (Dropout)          (None, 32, 32, 32)   0           ['conv4_branch1[0][0]']          \n",
      "                                                                                                  \n",
      " add_75 (Add)                   (None, 32, 32, 32)   0           ['dropout_325[0][0]',            \n",
      "                                                                  'dropout_326[0][0]']            \n",
      "                                                                                                  \n",
      " activation_198 (Activation)    (None, 32, 32, 32)   0           ['add_75[0][0]']                 \n",
      "                                                                                                  \n",
      " dropout_327 (Dropout)          (None, 32, 32, 32)   0           ['activation_198[0][0]']         \n",
      "                                                                                                  \n",
      " pool5_branch2a (Conv2D)        (None, 32, 32, 32)   4128        ['dropout_327[0][0]']            \n",
      "                                                                                                  \n",
      " activation_199 (Activation)    (None, 32, 32, 32)   0           ['pool5_branch2a[0][0]']         \n",
      "                                                                                                  \n",
      " dropout_328 (Dropout)          (None, 32, 32, 32)   0           ['activation_199[0][0]']         \n",
      "                                                                                                  \n",
      " conv5_branch2a (Conv2D)        (None, 32, 32, 32)   9248        ['dropout_328[0][0]']            \n",
      "                                                                                                  \n",
      " conv5_branch1 (Conv2D)         (None, 32, 32, 32)   9248        ['add_75[0][0]']                 \n",
      "                                                                                                  \n",
      " dropout_329 (Dropout)          (None, 32, 32, 32)   0           ['conv5_branch2a[0][0]']         \n",
      "                                                                                                  \n",
      " dropout_330 (Dropout)          (None, 32, 32, 32)   0           ['conv5_branch1[0][0]']          \n",
      "                                                                                                  \n",
      " add_76 (Add)                   (None, 32, 32, 32)   0           ['dropout_329[0][0]',            \n",
      "                                                                  'dropout_330[0][0]']            \n",
      "                                                                                                  \n",
      " conv6 (Conv2D)                 (None, 32, 32, 16)   4624        ['add_76[0][0]']                 \n",
      "                                                                                                  \n",
      " activation_200 (Activation)    (None, 32, 32, 16)   0           ['conv6[0][0]']                  \n",
      "                                                                                                  \n",
      " AveragePool2a (AveragePooling2  (None, 32, 32, 16)  0           ['activation_200[0][0]']         \n",
      " D)                                                                                               \n",
      "                                                                                                  \n",
      " conv_last (Conv2D)             (None, 32, 32, 1)    145         ['AveragePool2a[0][0]']          \n",
      "                                                                                                  \n",
      " activation_201 (Activation)    (None, 32, 32, 1)    0           ['conv_last[0][0]']              \n",
      "                                                                                                  \n",
      "==================================================================================================\n",
      "Total params: 56,769\n",
      "Trainable params: 56,737\n",
      "Non-trainable params: 32\n",
      "__________________________________________________________________________________________________\n"
     ]
    }
   ],
   "source": [
    "model.summary()"
   ]
  },
  {
   "cell_type": "code",
   "execution_count": 253,
   "id": "d2f0ad78",
   "metadata": {},
   "outputs": [],
   "source": [
    "x = X_test[2,:,:,:]\n",
    "x = np.expand_dims(x, axis=0)\n",
    "y = model.predict(x)"
   ]
  },
  {
   "cell_type": "code",
   "execution_count": 254,
   "id": "0d2658b4",
   "metadata": {},
   "outputs": [
    {
     "data": {
      "text/plain": [
       "<matplotlib.image.AxesImage at 0x2456fdc4e80>"
      ]
     },
     "execution_count": 254,
     "metadata": {},
     "output_type": "execute_result"
    },
    {
     "data": {
      "image/png": "[encoded data removed]",
      "text/plain": [
       "<Figure size 432x288 with 1 Axes>"
      ]
     },
     "metadata": {
      "needs_background": "light"
     },
     "output_type": "display_data"
    }
   ],
   "source": [
    "plt.imshow(y[0,:,:,0])"
   ]
  },
  {
   "cell_type": "code",
   "execution_count": 255,
   "id": "16fa5ec1",
   "metadata": {},
   "outputs": [
    {
     "data": {
      "text/plain": [
       "<matplotlib.image.AxesImage at 0x2456fdfb610>"
      ]
     },
     "execution_count": 255,
     "metadata": {},
     "output_type": "execute_result"
    },
    {
     "data": {
      "image/png": "[encoded data removed]",
      "text/plain": [
       "<Figure size 432x288 with 1 Axes>"
      ]
     },
     "metadata": {
      "needs_background": "light"
     },
     "output_type": "display_data"
    }
   ],
   "source": [
    "plt.imshow(Y_test[2,:,:])"
   ]
  },
  {
   "cell_type": "code",
   "execution_count": null,
   "id": "c5255153",
   "metadata": {},
   "outputs": [],
   "source": []
  }
 ],
 "metadata": {
  "kernelspec": {
   "display_name": "Python 3",
   "language": "python",
   "name": "python3"
  },
  "language_info": {
   "codemirror_mode": {
    "name": "ipython",
    "version": 3
   },
   "file_extension": ".py",
   "mimetype": "text/x-python",
   "name": "python",
   "nbconvert_exporter": "python",
   "pygments_lexer": "ipython3",
   "version": "3.8.2"
  },
  "toc": {
   "base_numbering": 1,
   "nav_menu": {},
   "number_sections": true,
   "sideBar": true,
   "skip_h1_title": false,
   "title_cell": "Table of Contents",
   "title_sidebar": "Contents",
   "toc_cell": false,
   "toc_position": {},
   "toc_section_display": true,
   "toc_window_display": false
  }
 },
 "nbformat": 4,
 "nbformat_minor": 5
}
